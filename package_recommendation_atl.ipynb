{
 "cells": [
  {
   "cell_type": "markdown",
   "source": [
    "# Library"
   ],
   "metadata": {
    "collapsed": false
   }
  },
  {
   "cell_type": "code",
   "execution_count": 1,
   "outputs": [],
   "source": [
    "import warnings\n",
    "warnings.simplefilter(action='ignore', category=FutureWarning)"
   ],
   "metadata": {
    "collapsed": false,
    "pycharm": {
     "name": "#%%\n"
    }
   }
  },
  {
   "cell_type": "code",
   "execution_count": 2,
   "metadata": {
    "collapsed": true
   },
   "outputs": [],
   "source": [
    "import pandas as pd\n",
    "import numpy as np\n",
    "\n",
    "import xgboost as xgb\n",
    "from xgboost import XGBClassifier\n",
    "\n",
    "from sklearn.metrics import accuracy_score\n",
    "from sklearn import metrics\n",
    "from sklearn.base import clone\n",
    "from sklearn.metrics import confusion_matrix\n",
    "from sklearn.metrics import plot_confusion_matrix\n",
    "from sklearn.metrics import classification_report\n",
    "from sklearn.metrics import roc_auc_score\n",
    "from sklearn.model_selection import GridSearchCV\n",
    "\n",
    "import seaborn as sns\n",
    "import matplotlib.pyplot as plt\n",
    "\n",
    "from sklearn.metrics.pairwise import cosine_similarity"
   ]
  },
  {
   "cell_type": "markdown",
   "source": [
    "# Data Preprocessing"
   ],
   "metadata": {
    "collapsed": false
   }
  },
  {
   "cell_type": "markdown",
   "source": [
    "## Import Data"
   ],
   "metadata": {
    "collapsed": false
   }
  },
  {
   "cell_type": "code",
   "execution_count": 3,
   "outputs": [],
   "source": [
    "df202109 = pd.read_csv(\"df_202109.csv.gz\", compression=\"gzip\", low_memory=False)\n",
    "df202110 = pd.read_csv(\"df_202110.csv.gz\", compression=\"gzip\", low_memory=False)\n",
    "df202111 = pd.read_csv(\"df_202111.csv.gz\", compression=\"gzip\", low_memory=False)\n",
    "df202112 = pd.read_csv(\"df_202112.csv.gz\", compression=\"gzip\", low_memory=False)"
   ],
   "metadata": {
    "collapsed": false,
    "pycharm": {
     "name": "#%%\n"
    }
   }
  },
  {
   "cell_type": "code",
   "execution_count": 4,
   "outputs": [
    {
     "data": {
      "text/plain": "   yearmonth site_id content_id                  category   price  \\\n0      20219  ADL001   00033315               PV _ Others    8000   \n1      20219  ADL001   00027265  CVM (BTL) _ Combo Pacman   76000   \n2      20219  ADL001   00033652     CVM (BTL) _ Combo Max   10000   \n3      20219  ADL001   00033653     CVM (BTL) _ Combo Max   25000   \n4      20219  ADL001   00027268  CVM (BTL) _ Combo Pacman  102000   \n\n   site_prod_trx  site_prod_reorder_trx  num_package_purchased  site_trx  \\\n0            293                    182                    259      2962   \n1            263                     26                    259      2962   \n2            174                     82                    259      2962   \n3            159                     58                    259      2962   \n4            104                      8                    259      2962   \n\n   site_reorder_trx  num_msisdn_purchaser  prod_trx  prod_reorder_trx  \\\n0               815               6561387  25837086          19130037   \n1               815               2666116   2950931            222057   \n2               815                504069   1151358            554107   \n3               815                698653   1334463            522721   \n4               815               1847892   2072410            175885   \n\n   reordered  rn  \n0          1   1  \n1          1   2  \n2          1   3  \n3          1   4  \n4          1   5  ",
      "text/html": "<div>\n<style scoped>\n    .dataframe tbody tr th:only-of-type {\n        vertical-align: middle;\n    }\n\n    .dataframe tbody tr th {\n        vertical-align: top;\n    }\n\n    .dataframe thead th {\n        text-align: right;\n    }\n</style>\n<table border=\"1\" class=\"dataframe\">\n  <thead>\n    <tr style=\"text-align: right;\">\n      <th></th>\n      <th>yearmonth</th>\n      <th>site_id</th>\n      <th>content_id</th>\n      <th>category</th>\n      <th>price</th>\n      <th>site_prod_trx</th>\n      <th>site_prod_reorder_trx</th>\n      <th>num_package_purchased</th>\n      <th>site_trx</th>\n      <th>site_reorder_trx</th>\n      <th>num_msisdn_purchaser</th>\n      <th>prod_trx</th>\n      <th>prod_reorder_trx</th>\n      <th>reordered</th>\n      <th>rn</th>\n    </tr>\n  </thead>\n  <tbody>\n    <tr>\n      <th>0</th>\n      <td>20219</td>\n      <td>ADL001</td>\n      <td>00033315</td>\n      <td>PV _ Others</td>\n      <td>8000</td>\n      <td>293</td>\n      <td>182</td>\n      <td>259</td>\n      <td>2962</td>\n      <td>815</td>\n      <td>6561387</td>\n      <td>25837086</td>\n      <td>19130037</td>\n      <td>1</td>\n      <td>1</td>\n    </tr>\n    <tr>\n      <th>1</th>\n      <td>20219</td>\n      <td>ADL001</td>\n      <td>00027265</td>\n      <td>CVM (BTL) _ Combo Pacman</td>\n      <td>76000</td>\n      <td>263</td>\n      <td>26</td>\n      <td>259</td>\n      <td>2962</td>\n      <td>815</td>\n      <td>2666116</td>\n      <td>2950931</td>\n      <td>222057</td>\n      <td>1</td>\n      <td>2</td>\n    </tr>\n    <tr>\n      <th>2</th>\n      <td>20219</td>\n      <td>ADL001</td>\n      <td>00033652</td>\n      <td>CVM (BTL) _ Combo Max</td>\n      <td>10000</td>\n      <td>174</td>\n      <td>82</td>\n      <td>259</td>\n      <td>2962</td>\n      <td>815</td>\n      <td>504069</td>\n      <td>1151358</td>\n      <td>554107</td>\n      <td>1</td>\n      <td>3</td>\n    </tr>\n    <tr>\n      <th>3</th>\n      <td>20219</td>\n      <td>ADL001</td>\n      <td>00033653</td>\n      <td>CVM (BTL) _ Combo Max</td>\n      <td>25000</td>\n      <td>159</td>\n      <td>58</td>\n      <td>259</td>\n      <td>2962</td>\n      <td>815</td>\n      <td>698653</td>\n      <td>1334463</td>\n      <td>522721</td>\n      <td>1</td>\n      <td>4</td>\n    </tr>\n    <tr>\n      <th>4</th>\n      <td>20219</td>\n      <td>ADL001</td>\n      <td>00027268</td>\n      <td>CVM (BTL) _ Combo Pacman</td>\n      <td>102000</td>\n      <td>104</td>\n      <td>8</td>\n      <td>259</td>\n      <td>2962</td>\n      <td>815</td>\n      <td>1847892</td>\n      <td>2072410</td>\n      <td>175885</td>\n      <td>1</td>\n      <td>5</td>\n    </tr>\n  </tbody>\n</table>\n</div>"
     },
     "execution_count": 4,
     "metadata": {},
     "output_type": "execute_result"
    }
   ],
   "source": [
    "df202109.head()"
   ],
   "metadata": {
    "collapsed": false,
    "pycharm": {
     "name": "#%%\n"
    }
   }
  },
  {
   "cell_type": "code",
   "execution_count": 5,
   "outputs": [
    {
     "data": {
      "text/plain": "   yearmonth site_id content_id                  category     price  \\\n0     202110  ADL001   00033315               PV _ Others    8000.0   \n1     202110  ADL001   00027265  CVM (BTL) _ Combo Pacman   76000.0   \n2     202110  ADL001   00033653     CVM (BTL) _ Combo Max   25000.0   \n3     202110  ADL001   00033652     CVM (BTL) _ Combo Max   10000.0   \n4     202110  ADL001   00027268  CVM (BTL) _ Combo Pacman  102000.0   \n\n   site_prod_trx  site_prod_reorder_trx  num_package_purchased  site_trx  \\\n0            346                    234                    257      3057   \n1            253                     11                    257      3057   \n2            188                     61                    257      3057   \n3            166                     76                    257      3057   \n4            107                      8                    257      3057   \n\n   site_reorder_trx  num_msisdn_purchaser  prod_trx  prod_reorder_trx  \\\n0               802               6978661  28673619          21131967   \n1               802               2663499   2992160            164849   \n2               802                739072   1433812            490190   \n3               802                514678   1203330            541378   \n4               802               1832905   2099759            140296   \n\n   reordered  rn  \n0          1   1  \n1          1   2  \n2          1   3  \n3          1   4  \n4          1   5  ",
      "text/html": "<div>\n<style scoped>\n    .dataframe tbody tr th:only-of-type {\n        vertical-align: middle;\n    }\n\n    .dataframe tbody tr th {\n        vertical-align: top;\n    }\n\n    .dataframe thead th {\n        text-align: right;\n    }\n</style>\n<table border=\"1\" class=\"dataframe\">\n  <thead>\n    <tr style=\"text-align: right;\">\n      <th></th>\n      <th>yearmonth</th>\n      <th>site_id</th>\n      <th>content_id</th>\n      <th>category</th>\n      <th>price</th>\n      <th>site_prod_trx</th>\n      <th>site_prod_reorder_trx</th>\n      <th>num_package_purchased</th>\n      <th>site_trx</th>\n      <th>site_reorder_trx</th>\n      <th>num_msisdn_purchaser</th>\n      <th>prod_trx</th>\n      <th>prod_reorder_trx</th>\n      <th>reordered</th>\n      <th>rn</th>\n    </tr>\n  </thead>\n  <tbody>\n    <tr>\n      <th>0</th>\n      <td>202110</td>\n      <td>ADL001</td>\n      <td>00033315</td>\n      <td>PV _ Others</td>\n      <td>8000.0</td>\n      <td>346</td>\n      <td>234</td>\n      <td>257</td>\n      <td>3057</td>\n      <td>802</td>\n      <td>6978661</td>\n      <td>28673619</td>\n      <td>21131967</td>\n      <td>1</td>\n      <td>1</td>\n    </tr>\n    <tr>\n      <th>1</th>\n      <td>202110</td>\n      <td>ADL001</td>\n      <td>00027265</td>\n      <td>CVM (BTL) _ Combo Pacman</td>\n      <td>76000.0</td>\n      <td>253</td>\n      <td>11</td>\n      <td>257</td>\n      <td>3057</td>\n      <td>802</td>\n      <td>2663499</td>\n      <td>2992160</td>\n      <td>164849</td>\n      <td>1</td>\n      <td>2</td>\n    </tr>\n    <tr>\n      <th>2</th>\n      <td>202110</td>\n      <td>ADL001</td>\n      <td>00033653</td>\n      <td>CVM (BTL) _ Combo Max</td>\n      <td>25000.0</td>\n      <td>188</td>\n      <td>61</td>\n      <td>257</td>\n      <td>3057</td>\n      <td>802</td>\n      <td>739072</td>\n      <td>1433812</td>\n      <td>490190</td>\n      <td>1</td>\n      <td>3</td>\n    </tr>\n    <tr>\n      <th>3</th>\n      <td>202110</td>\n      <td>ADL001</td>\n      <td>00033652</td>\n      <td>CVM (BTL) _ Combo Max</td>\n      <td>10000.0</td>\n      <td>166</td>\n      <td>76</td>\n      <td>257</td>\n      <td>3057</td>\n      <td>802</td>\n      <td>514678</td>\n      <td>1203330</td>\n      <td>541378</td>\n      <td>1</td>\n      <td>4</td>\n    </tr>\n    <tr>\n      <th>4</th>\n      <td>202110</td>\n      <td>ADL001</td>\n      <td>00027268</td>\n      <td>CVM (BTL) _ Combo Pacman</td>\n      <td>102000.0</td>\n      <td>107</td>\n      <td>8</td>\n      <td>257</td>\n      <td>3057</td>\n      <td>802</td>\n      <td>1832905</td>\n      <td>2099759</td>\n      <td>140296</td>\n      <td>1</td>\n      <td>5</td>\n    </tr>\n  </tbody>\n</table>\n</div>"
     },
     "execution_count": 5,
     "metadata": {},
     "output_type": "execute_result"
    }
   ],
   "source": [
    "df202110.head()"
   ],
   "metadata": {
    "collapsed": false,
    "pycharm": {
     "name": "#%%\n"
    }
   }
  },
  {
   "cell_type": "code",
   "execution_count": 6,
   "outputs": [
    {
     "data": {
      "text/plain": "   yearmonth site_id content_id                  category   price  \\\n0     202111  ADL001   00033315               PV _ Others    8000   \n1     202111  ADL001   00027265  CVM (BTL) _ Combo Pacman   76000   \n2     202111  ADL001   00033653     CVM (BTL) _ Combo Max   25000   \n3     202111  ADL001   00033652     CVM (BTL) _ Combo Max   10000   \n4     202111  ADL001   00027268  CVM (BTL) _ Combo Pacman  102000   \n\n   site_prod_trx  site_prod_reorder_trx  num_package_purchased  site_trx  \\\n0            366                    226                    239      2950   \n1            224                      9                    239      2950   \n2            221                     64                    239      2950   \n3            156                     71                    239      2950   \n4            106                      3                    239      2950   \n\n   site_reorder_trx  num_msisdn_purchaser  prod_trx  prod_reorder_trx  \\\n0               709               7353288  30222077          20451247   \n1               709               2704443   2992455            134863   \n2               709                789116   1446234            433826   \n3               709                516483   1154864            487358   \n4               709               1683881   1877278             94579   \n\n   reordered  rn  \n0          1   1  \n1          1   2  \n2          1   3  \n3          1   4  \n4          1   5  ",
      "text/html": "<div>\n<style scoped>\n    .dataframe tbody tr th:only-of-type {\n        vertical-align: middle;\n    }\n\n    .dataframe tbody tr th {\n        vertical-align: top;\n    }\n\n    .dataframe thead th {\n        text-align: right;\n    }\n</style>\n<table border=\"1\" class=\"dataframe\">\n  <thead>\n    <tr style=\"text-align: right;\">\n      <th></th>\n      <th>yearmonth</th>\n      <th>site_id</th>\n      <th>content_id</th>\n      <th>category</th>\n      <th>price</th>\n      <th>site_prod_trx</th>\n      <th>site_prod_reorder_trx</th>\n      <th>num_package_purchased</th>\n      <th>site_trx</th>\n      <th>site_reorder_trx</th>\n      <th>num_msisdn_purchaser</th>\n      <th>prod_trx</th>\n      <th>prod_reorder_trx</th>\n      <th>reordered</th>\n      <th>rn</th>\n    </tr>\n  </thead>\n  <tbody>\n    <tr>\n      <th>0</th>\n      <td>202111</td>\n      <td>ADL001</td>\n      <td>00033315</td>\n      <td>PV _ Others</td>\n      <td>8000</td>\n      <td>366</td>\n      <td>226</td>\n      <td>239</td>\n      <td>2950</td>\n      <td>709</td>\n      <td>7353288</td>\n      <td>30222077</td>\n      <td>20451247</td>\n      <td>1</td>\n      <td>1</td>\n    </tr>\n    <tr>\n      <th>1</th>\n      <td>202111</td>\n      <td>ADL001</td>\n      <td>00027265</td>\n      <td>CVM (BTL) _ Combo Pacman</td>\n      <td>76000</td>\n      <td>224</td>\n      <td>9</td>\n      <td>239</td>\n      <td>2950</td>\n      <td>709</td>\n      <td>2704443</td>\n      <td>2992455</td>\n      <td>134863</td>\n      <td>1</td>\n      <td>2</td>\n    </tr>\n    <tr>\n      <th>2</th>\n      <td>202111</td>\n      <td>ADL001</td>\n      <td>00033653</td>\n      <td>CVM (BTL) _ Combo Max</td>\n      <td>25000</td>\n      <td>221</td>\n      <td>64</td>\n      <td>239</td>\n      <td>2950</td>\n      <td>709</td>\n      <td>789116</td>\n      <td>1446234</td>\n      <td>433826</td>\n      <td>1</td>\n      <td>3</td>\n    </tr>\n    <tr>\n      <th>3</th>\n      <td>202111</td>\n      <td>ADL001</td>\n      <td>00033652</td>\n      <td>CVM (BTL) _ Combo Max</td>\n      <td>10000</td>\n      <td>156</td>\n      <td>71</td>\n      <td>239</td>\n      <td>2950</td>\n      <td>709</td>\n      <td>516483</td>\n      <td>1154864</td>\n      <td>487358</td>\n      <td>1</td>\n      <td>4</td>\n    </tr>\n    <tr>\n      <th>4</th>\n      <td>202111</td>\n      <td>ADL001</td>\n      <td>00027268</td>\n      <td>CVM (BTL) _ Combo Pacman</td>\n      <td>102000</td>\n      <td>106</td>\n      <td>3</td>\n      <td>239</td>\n      <td>2950</td>\n      <td>709</td>\n      <td>1683881</td>\n      <td>1877278</td>\n      <td>94579</td>\n      <td>1</td>\n      <td>5</td>\n    </tr>\n  </tbody>\n</table>\n</div>"
     },
     "execution_count": 6,
     "metadata": {},
     "output_type": "execute_result"
    }
   ],
   "source": [
    "df202111.head()"
   ],
   "metadata": {
    "collapsed": false,
    "pycharm": {
     "name": "#%%\n"
    }
   }
  },
  {
   "cell_type": "code",
   "execution_count": 7,
   "outputs": [
    {
     "data": {
      "text/plain": "   yearmonth site_id content_id                  category     price  \\\n0     202112  ADL001   00033315               PV _ Others    8000.0   \n1     202112  ADL001   00027265  CVM (BTL) _ Combo Pacman   76000.0   \n2     202112  ADL001   00033653     CVM (BTL) _ Combo Max   25000.0   \n3     202112  ADL001   00033652     CVM (BTL) _ Combo Max   10000.0   \n4     202112  ADL001   00027268  CVM (BTL) _ Combo Pacman  102000.0   \n\n   site_prod_trx  site_prod_reorder_trx  num_package_purchased  site_trx  \\\n0            338                    222                    272      3299   \n1            271                     15                    272      3299   \n2            255                     87                    272      3299   \n3            143                     58                    272      3299   \n4            120                     13                    272      3299   \n\n   site_reorder_trx  num_msisdn_purchaser  prod_trx  prod_reorder_trx  \\\n0               829               7972633  34444426          24621720   \n1               829               2947721   3349409            178244   \n2               829                820697   1567051            486974   \n3               829                468057   1077516            443835   \n4               829               1610943   1841072             94865   \n\n   reordered  rn  \n0          1   1  \n1          1   2  \n2          1   3  \n3          1   4  \n4          1   5  ",
      "text/html": "<div>\n<style scoped>\n    .dataframe tbody tr th:only-of-type {\n        vertical-align: middle;\n    }\n\n    .dataframe tbody tr th {\n        vertical-align: top;\n    }\n\n    .dataframe thead th {\n        text-align: right;\n    }\n</style>\n<table border=\"1\" class=\"dataframe\">\n  <thead>\n    <tr style=\"text-align: right;\">\n      <th></th>\n      <th>yearmonth</th>\n      <th>site_id</th>\n      <th>content_id</th>\n      <th>category</th>\n      <th>price</th>\n      <th>site_prod_trx</th>\n      <th>site_prod_reorder_trx</th>\n      <th>num_package_purchased</th>\n      <th>site_trx</th>\n      <th>site_reorder_trx</th>\n      <th>num_msisdn_purchaser</th>\n      <th>prod_trx</th>\n      <th>prod_reorder_trx</th>\n      <th>reordered</th>\n      <th>rn</th>\n    </tr>\n  </thead>\n  <tbody>\n    <tr>\n      <th>0</th>\n      <td>202112</td>\n      <td>ADL001</td>\n      <td>00033315</td>\n      <td>PV _ Others</td>\n      <td>8000.0</td>\n      <td>338</td>\n      <td>222</td>\n      <td>272</td>\n      <td>3299</td>\n      <td>829</td>\n      <td>7972633</td>\n      <td>34444426</td>\n      <td>24621720</td>\n      <td>1</td>\n      <td>1</td>\n    </tr>\n    <tr>\n      <th>1</th>\n      <td>202112</td>\n      <td>ADL001</td>\n      <td>00027265</td>\n      <td>CVM (BTL) _ Combo Pacman</td>\n      <td>76000.0</td>\n      <td>271</td>\n      <td>15</td>\n      <td>272</td>\n      <td>3299</td>\n      <td>829</td>\n      <td>2947721</td>\n      <td>3349409</td>\n      <td>178244</td>\n      <td>1</td>\n      <td>2</td>\n    </tr>\n    <tr>\n      <th>2</th>\n      <td>202112</td>\n      <td>ADL001</td>\n      <td>00033653</td>\n      <td>CVM (BTL) _ Combo Max</td>\n      <td>25000.0</td>\n      <td>255</td>\n      <td>87</td>\n      <td>272</td>\n      <td>3299</td>\n      <td>829</td>\n      <td>820697</td>\n      <td>1567051</td>\n      <td>486974</td>\n      <td>1</td>\n      <td>3</td>\n    </tr>\n    <tr>\n      <th>3</th>\n      <td>202112</td>\n      <td>ADL001</td>\n      <td>00033652</td>\n      <td>CVM (BTL) _ Combo Max</td>\n      <td>10000.0</td>\n      <td>143</td>\n      <td>58</td>\n      <td>272</td>\n      <td>3299</td>\n      <td>829</td>\n      <td>468057</td>\n      <td>1077516</td>\n      <td>443835</td>\n      <td>1</td>\n      <td>4</td>\n    </tr>\n    <tr>\n      <th>4</th>\n      <td>202112</td>\n      <td>ADL001</td>\n      <td>00027268</td>\n      <td>CVM (BTL) _ Combo Pacman</td>\n      <td>102000.0</td>\n      <td>120</td>\n      <td>13</td>\n      <td>272</td>\n      <td>3299</td>\n      <td>829</td>\n      <td>1610943</td>\n      <td>1841072</td>\n      <td>94865</td>\n      <td>1</td>\n      <td>5</td>\n    </tr>\n  </tbody>\n</table>\n</div>"
     },
     "execution_count": 7,
     "metadata": {},
     "output_type": "execute_result"
    }
   ],
   "source": [
    "df202112.head()"
   ],
   "metadata": {
    "collapsed": false,
    "pycharm": {
     "name": "#%%\n"
    }
   }
  },
  {
   "cell_type": "markdown",
   "source": [
    "## Split test-train"
   ],
   "metadata": {
    "collapsed": false
   }
  },
  {
   "cell_type": "code",
   "execution_count": 8,
   "outputs": [],
   "source": [
    "df_test = df202112[df202112['rn']<=50]\n",
    "# noinspection PyRedeclaration\n",
    "df_test = df202112.drop([\"yearmonth\",\"site_prod_reorder_trx\",\"rn\"], axis=1)"
   ],
   "metadata": {
    "collapsed": false,
    "pycharm": {
     "name": "#%%\n"
    }
   }
  },
  {
   "cell_type": "code",
   "execution_count": 9,
   "outputs": [],
   "source": [
    "test_x = df_test[[\"site_prod_trx\",\"num_package_purchased\",\"site_trx\",\"site_reorder_trx\",\"num_msisdn_purchaser\",\"prod_trx\",\"prod_reorder_trx\"]]"
   ],
   "metadata": {
    "collapsed": false,
    "pycharm": {
     "name": "#%%\n"
    }
   }
  },
  {
   "cell_type": "code",
   "execution_count": 10,
   "outputs": [],
   "source": [
    "test_y = df_test[\"reordered\"]"
   ],
   "metadata": {
    "collapsed": false,
    "pycharm": {
     "name": "#%%\n"
    }
   }
  },
  {
   "cell_type": "code",
   "execution_count": 11,
   "outputs": [],
   "source": [
    "train = [df202109,df202110,df202111]\n",
    "df_train = pd.concat(train)"
   ],
   "metadata": {
    "collapsed": false,
    "pycharm": {
     "name": "#%%\n"
    }
   }
  },
  {
   "cell_type": "code",
   "execution_count": 12,
   "outputs": [],
   "source": [
    "df_train = df_train[df_train['rn']<=50]\n",
    "df_train = df_train.drop(['yearmonth','site_prod_reorder_trx','rn'], axis=1)"
   ],
   "metadata": {
    "collapsed": false,
    "pycharm": {
     "name": "#%%\n"
    }
   }
  },
  {
   "cell_type": "code",
   "execution_count": 13,
   "outputs": [
    {
     "data": {
      "text/plain": "  site_id content_id                  category     price  site_prod_trx  \\\n0  ADL001   00033315               PV _ Others    8000.0            293   \n1  ADL001   00027265  CVM (BTL) _ Combo Pacman   76000.0            263   \n2  ADL001   00033652     CVM (BTL) _ Combo Max   10000.0            174   \n3  ADL001   00033653     CVM (BTL) _ Combo Max   25000.0            159   \n4  ADL001   00027268  CVM (BTL) _ Combo Pacman  102000.0            104   \n\n   num_package_purchased  site_trx  site_reorder_trx  num_msisdn_purchaser  \\\n0                    259      2962               815               6561387   \n1                    259      2962               815               2666116   \n2                    259      2962               815                504069   \n3                    259      2962               815                698653   \n4                    259      2962               815               1847892   \n\n   prod_trx  prod_reorder_trx  reordered  \n0  25837086          19130037          1  \n1   2950931            222057          1  \n2   1151358            554107          1  \n3   1334463            522721          1  \n4   2072410            175885          1  ",
      "text/html": "<div>\n<style scoped>\n    .dataframe tbody tr th:only-of-type {\n        vertical-align: middle;\n    }\n\n    .dataframe tbody tr th {\n        vertical-align: top;\n    }\n\n    .dataframe thead th {\n        text-align: right;\n    }\n</style>\n<table border=\"1\" class=\"dataframe\">\n  <thead>\n    <tr style=\"text-align: right;\">\n      <th></th>\n      <th>site_id</th>\n      <th>content_id</th>\n      <th>category</th>\n      <th>price</th>\n      <th>site_prod_trx</th>\n      <th>num_package_purchased</th>\n      <th>site_trx</th>\n      <th>site_reorder_trx</th>\n      <th>num_msisdn_purchaser</th>\n      <th>prod_trx</th>\n      <th>prod_reorder_trx</th>\n      <th>reordered</th>\n    </tr>\n  </thead>\n  <tbody>\n    <tr>\n      <th>0</th>\n      <td>ADL001</td>\n      <td>00033315</td>\n      <td>PV _ Others</td>\n      <td>8000.0</td>\n      <td>293</td>\n      <td>259</td>\n      <td>2962</td>\n      <td>815</td>\n      <td>6561387</td>\n      <td>25837086</td>\n      <td>19130037</td>\n      <td>1</td>\n    </tr>\n    <tr>\n      <th>1</th>\n      <td>ADL001</td>\n      <td>00027265</td>\n      <td>CVM (BTL) _ Combo Pacman</td>\n      <td>76000.0</td>\n      <td>263</td>\n      <td>259</td>\n      <td>2962</td>\n      <td>815</td>\n      <td>2666116</td>\n      <td>2950931</td>\n      <td>222057</td>\n      <td>1</td>\n    </tr>\n    <tr>\n      <th>2</th>\n      <td>ADL001</td>\n      <td>00033652</td>\n      <td>CVM (BTL) _ Combo Max</td>\n      <td>10000.0</td>\n      <td>174</td>\n      <td>259</td>\n      <td>2962</td>\n      <td>815</td>\n      <td>504069</td>\n      <td>1151358</td>\n      <td>554107</td>\n      <td>1</td>\n    </tr>\n    <tr>\n      <th>3</th>\n      <td>ADL001</td>\n      <td>00033653</td>\n      <td>CVM (BTL) _ Combo Max</td>\n      <td>25000.0</td>\n      <td>159</td>\n      <td>259</td>\n      <td>2962</td>\n      <td>815</td>\n      <td>698653</td>\n      <td>1334463</td>\n      <td>522721</td>\n      <td>1</td>\n    </tr>\n    <tr>\n      <th>4</th>\n      <td>ADL001</td>\n      <td>00027268</td>\n      <td>CVM (BTL) _ Combo Pacman</td>\n      <td>102000.0</td>\n      <td>104</td>\n      <td>259</td>\n      <td>2962</td>\n      <td>815</td>\n      <td>1847892</td>\n      <td>2072410</td>\n      <td>175885</td>\n      <td>1</td>\n    </tr>\n  </tbody>\n</table>\n</div>"
     },
     "execution_count": 13,
     "metadata": {},
     "output_type": "execute_result"
    }
   ],
   "source": [
    "df_train.head()"
   ],
   "metadata": {
    "collapsed": false,
    "pycharm": {
     "name": "#%%\n"
    }
   }
  },
  {
   "cell_type": "code",
   "execution_count": 14,
   "outputs": [],
   "source": [
    "count_c1, count_c0 = df_train['reordered'].value_counts()\n",
    "\n",
    "df_c1 = df_train[df_train['reordered'] == 1]\n",
    "df_c0 = df_train[df_train['reordered'] == 0]"
   ],
   "metadata": {
    "collapsed": false,
    "pycharm": {
     "name": "#%%\n"
    }
   }
  },
  {
   "cell_type": "code",
   "execution_count": 15,
   "outputs": [
    {
     "data": {
      "text/plain": "6234887"
     },
     "execution_count": 15,
     "metadata": {},
     "output_type": "execute_result"
    }
   ],
   "source": [
    "count_c1"
   ],
   "metadata": {
    "collapsed": false,
    "pycharm": {
     "name": "#%%\n"
    }
   }
  },
  {
   "cell_type": "code",
   "execution_count": 16,
   "outputs": [
    {
     "data": {
      "text/plain": "2754092"
     },
     "execution_count": 16,
     "metadata": {},
     "output_type": "execute_result"
    }
   ],
   "source": [
    "count_c0"
   ],
   "metadata": {
    "collapsed": false,
    "pycharm": {
     "name": "#%%\n"
    }
   }
  },
  {
   "cell_type": "code",
   "execution_count": 17,
   "outputs": [
    {
     "data": {
      "text/plain": "    site_id content_id                  category    price  site_prod_trx  \\\n10   ADL001   00027266  CVM (BTL) _ Combo Pacman  82000.0             42   \n41   ADL001   00020214     CVM (BTL) _ Combo BAU  86000.0             13   \n43   ADL001   00027267  CVM (BTL) _ Combo Pacman  92000.0             13   \n234  ADL003   00027261  CVM (BTL) _ Combo Pacman  59000.0             20   \n242  ADL003   00013535     CVM (BTL) _ Combo BAU  76000.0             14   \n\n     num_package_purchased  site_trx  site_reorder_trx  num_msisdn_purchaser  \\\n10                     259      2962               815                519116   \n41                     259      2962               815                 42525   \n43                     259      2962               815                220053   \n234                    268      2802               668                890117   \n242                    268      2802               668                439115   \n\n     prod_trx  prod_reorder_trx  reordered  \n10     568256             38165          0  \n41      46510              2889          0  \n43     234495             11374          0  \n234    988610             78687          0  \n242    530574             69137          0  ",
      "text/html": "<div>\n<style scoped>\n    .dataframe tbody tr th:only-of-type {\n        vertical-align: middle;\n    }\n\n    .dataframe tbody tr th {\n        vertical-align: top;\n    }\n\n    .dataframe thead th {\n        text-align: right;\n    }\n</style>\n<table border=\"1\" class=\"dataframe\">\n  <thead>\n    <tr style=\"text-align: right;\">\n      <th></th>\n      <th>site_id</th>\n      <th>content_id</th>\n      <th>category</th>\n      <th>price</th>\n      <th>site_prod_trx</th>\n      <th>num_package_purchased</th>\n      <th>site_trx</th>\n      <th>site_reorder_trx</th>\n      <th>num_msisdn_purchaser</th>\n      <th>prod_trx</th>\n      <th>prod_reorder_trx</th>\n      <th>reordered</th>\n    </tr>\n  </thead>\n  <tbody>\n    <tr>\n      <th>10</th>\n      <td>ADL001</td>\n      <td>00027266</td>\n      <td>CVM (BTL) _ Combo Pacman</td>\n      <td>82000.0</td>\n      <td>42</td>\n      <td>259</td>\n      <td>2962</td>\n      <td>815</td>\n      <td>519116</td>\n      <td>568256</td>\n      <td>38165</td>\n      <td>0</td>\n    </tr>\n    <tr>\n      <th>41</th>\n      <td>ADL001</td>\n      <td>00020214</td>\n      <td>CVM (BTL) _ Combo BAU</td>\n      <td>86000.0</td>\n      <td>13</td>\n      <td>259</td>\n      <td>2962</td>\n      <td>815</td>\n      <td>42525</td>\n      <td>46510</td>\n      <td>2889</td>\n      <td>0</td>\n    </tr>\n    <tr>\n      <th>43</th>\n      <td>ADL001</td>\n      <td>00027267</td>\n      <td>CVM (BTL) _ Combo Pacman</td>\n      <td>92000.0</td>\n      <td>13</td>\n      <td>259</td>\n      <td>2962</td>\n      <td>815</td>\n      <td>220053</td>\n      <td>234495</td>\n      <td>11374</td>\n      <td>0</td>\n    </tr>\n    <tr>\n      <th>234</th>\n      <td>ADL003</td>\n      <td>00027261</td>\n      <td>CVM (BTL) _ Combo Pacman</td>\n      <td>59000.0</td>\n      <td>20</td>\n      <td>268</td>\n      <td>2802</td>\n      <td>668</td>\n      <td>890117</td>\n      <td>988610</td>\n      <td>78687</td>\n      <td>0</td>\n    </tr>\n    <tr>\n      <th>242</th>\n      <td>ADL003</td>\n      <td>00013535</td>\n      <td>CVM (BTL) _ Combo BAU</td>\n      <td>76000.0</td>\n      <td>14</td>\n      <td>268</td>\n      <td>2802</td>\n      <td>668</td>\n      <td>439115</td>\n      <td>530574</td>\n      <td>69137</td>\n      <td>0</td>\n    </tr>\n  </tbody>\n</table>\n</div>"
     },
     "execution_count": 17,
     "metadata": {},
     "output_type": "execute_result"
    }
   ],
   "source": [
    "df_c0.head()"
   ],
   "metadata": {
    "collapsed": false,
    "pycharm": {
     "name": "#%%\n"
    }
   }
  },
  {
   "cell_type": "markdown",
   "source": [
    "### Oversampling"
   ],
   "metadata": {
    "collapsed": false
   }
  },
  {
   "cell_type": "code",
   "execution_count": 18,
   "outputs": [
    {
     "name": "stdout",
     "output_type": "stream",
     "text": [
      "Random over-sampling:\n",
      "1    6234887\n",
      "0    6234887\n",
      "Name: reordered, dtype: int64\n"
     ]
    },
    {
     "data": {
      "text/plain": "<Figure size 432x288 with 1 Axes>",
      "image/png": "[encoded data removed]"
     },
     "metadata": {
      "needs_background": "light"
     },
     "output_type": "display_data"
    }
   ],
   "source": [
    "df_c0_over = df_c0.sample(count_c1, replace=True)\n",
    "df_trains = pd.concat([df_c1, df_c0_over], axis=0)\n",
    "\n",
    "print('Random over-sampling:')\n",
    "print(df_trains['reordered'].value_counts())\n",
    "\n",
    "df_trains['reordered'].value_counts().plot(kind='bar', title='Count (target)');"
   ],
   "metadata": {
    "collapsed": false,
    "pycharm": {
     "name": "#%%\n"
    }
   }
  },
  {
   "cell_type": "code",
   "execution_count": 19,
   "outputs": [],
   "source": [
    "train_x = df_trains[[\"site_prod_trx\",\"num_package_purchased\",\"site_trx\",\"site_reorder_trx\",\"num_msisdn_purchaser\",\"prod_trx\",\"prod_reorder_trx\"]]"
   ],
   "metadata": {
    "collapsed": false,
    "pycharm": {
     "name": "#%%\n"
    }
   }
  },
  {
   "cell_type": "code",
   "execution_count": 20,
   "outputs": [],
   "source": [
    "train_y = df_trains['reordered']"
   ],
   "metadata": {
    "collapsed": false,
    "pycharm": {
     "name": "#%%\n"
    }
   }
  },
  {
   "cell_type": "markdown",
   "source": [
    "# Modeling (XGBoost)"
   ],
   "metadata": {
    "collapsed": false
   }
  },
  {
   "cell_type": "code",
   "execution_count": 25,
   "outputs": [],
   "source": [
    "clf_xgb = xgb.XGBClassifier(use_label_encoder=False)"
   ],
   "metadata": {
    "collapsed": false,
    "pycharm": {
     "name": "#%%\n"
    }
   }
  },
  {
   "cell_type": "code",
   "execution_count": 26,
   "outputs": [
    {
     "name": "stdout",
     "output_type": "stream",
     "text": [
      "[0]\tvalidation_0-auc:0.93238\n",
      "[1]\tvalidation_0-auc:0.93972\n",
      "[2]\tvalidation_0-auc:0.94166\n",
      "[3]\tvalidation_0-auc:0.94275\n",
      "[4]\tvalidation_0-auc:0.94359\n",
      "[5]\tvalidation_0-auc:0.94420\n",
      "[6]\tvalidation_0-auc:0.94465\n",
      "[7]\tvalidation_0-auc:0.94477\n",
      "[8]\tvalidation_0-auc:0.94504\n",
      "[9]\tvalidation_0-auc:0.94522\n",
      "[10]\tvalidation_0-auc:0.94571\n",
      "[11]\tvalidation_0-auc:0.94547\n",
      "[12]\tvalidation_0-auc:0.94578\n",
      "[13]\tvalidation_0-auc:0.94573\n",
      "[14]\tvalidation_0-auc:0.94578\n",
      "[15]\tvalidation_0-auc:0.94613\n",
      "[16]\tvalidation_0-auc:0.94595\n",
      "[17]\tvalidation_0-auc:0.94596\n",
      "[18]\tvalidation_0-auc:0.94588\n",
      "[19]\tvalidation_0-auc:0.94614\n",
      "[20]\tvalidation_0-auc:0.94620\n",
      "[21]\tvalidation_0-auc:0.94638\n",
      "[22]\tvalidation_0-auc:0.94629\n",
      "[23]\tvalidation_0-auc:0.94627\n",
      "[24]\tvalidation_0-auc:0.94652\n",
      "[25]\tvalidation_0-auc:0.94646\n",
      "[26]\tvalidation_0-auc:0.94658\n",
      "[27]\tvalidation_0-auc:0.94668\n",
      "[28]\tvalidation_0-auc:0.94667\n",
      "[29]\tvalidation_0-auc:0.94672\n",
      "[30]\tvalidation_0-auc:0.94672\n",
      "[31]\tvalidation_0-auc:0.94665\n",
      "[32]\tvalidation_0-auc:0.94663\n",
      "[33]\tvalidation_0-auc:0.94664\n",
      "[34]\tvalidation_0-auc:0.94659\n",
      "[35]\tvalidation_0-auc:0.94662\n",
      "[36]\tvalidation_0-auc:0.94674\n",
      "[37]\tvalidation_0-auc:0.94672\n",
      "[38]\tvalidation_0-auc:0.94670\n",
      "[39]\tvalidation_0-auc:0.94685\n",
      "[40]\tvalidation_0-auc:0.94687\n",
      "[41]\tvalidation_0-auc:0.94681\n",
      "[42]\tvalidation_0-auc:0.94681\n",
      "[43]\tvalidation_0-auc:0.94678\n",
      "[44]\tvalidation_0-auc:0.94666\n",
      "[45]\tvalidation_0-auc:0.94669\n",
      "[46]\tvalidation_0-auc:0.94676\n",
      "[47]\tvalidation_0-auc:0.94670\n",
      "[48]\tvalidation_0-auc:0.94670\n",
      "[49]\tvalidation_0-auc:0.94669\n"
     ]
    },
    {
     "data": {
      "text/plain": "XGBClassifier(base_score=0.5, booster='gbtree', colsample_bylevel=1,\n              colsample_bynode=1, colsample_bytree=1, enable_categorical=False,\n              gamma=0, gpu_id=-1, importance_type=None,\n              interaction_constraints='', learning_rate=0.300000012,\n              max_delta_step=0, max_depth=6, min_child_weight=1, missing=nan,\n              monotone_constraints='()', n_estimators=100, n_jobs=4,\n              num_parallel_tree=1, predictor='auto', random_state=0,\n              reg_alpha=0, reg_lambda=1, scale_pos_weight=1, subsample=1,\n              tree_method='approx', use_label_encoder=False,\n              validate_parameters=1, verbosity=None)"
     },
     "execution_count": 26,
     "metadata": {},
     "output_type": "execute_result"
    }
   ],
   "source": [
    "clf_xgb.fit(train_x,\n",
    "            train_y,\n",
    "            verbose=True,\n",
    "            early_stopping_rounds=10,\n",
    "            eval_metric='auc',\n",
    "            eval_set=[(test_x,test_y)]\n",
    "            )"
   ],
   "metadata": {
    "collapsed": false,
    "pycharm": {
     "name": "#%%\n"
    }
   }
  },
  {
   "cell_type": "code",
   "execution_count": 27,
   "outputs": [
    {
     "name": "stdout",
     "output_type": "stream",
     "text": [
      "AUC Train: 0.9093\n",
      "AUC Valid: 0.9475\n"
     ]
    }
   ],
   "source": [
    "y_train_pred = clf_xgb.predict_proba(train_x)[:,1]\n",
    "y_test_pred = clf_xgb.predict_proba(test_x)[:,1]\n",
    "\n",
    "print(\"AUC Train: {:.4f}\\nAUC Valid: {:.4f}\".format(roc_auc_score(train_y, y_train_pred),\n",
    "                                                    roc_auc_score(test_y, y_test_pred)))"
   ],
   "metadata": {
    "collapsed": false,
    "pycharm": {
     "name": "#%%\n"
    }
   }
  },
  {
   "cell_type": "code",
   "execution_count": 28,
   "outputs": [
    {
     "name": "stdout",
     "output_type": "stream",
     "text": [
      "\n",
      "Target on train data [1 1 1 ... 0 0 0]\n"
     ]
    }
   ],
   "source": [
    "# predict the target on the train dataset\n",
    "predict_train = clf_xgb.predict(train_x)\n",
    "print('\\nTarget on train data',predict_train)"
   ],
   "metadata": {
    "collapsed": false,
    "pycharm": {
     "name": "#%%\n"
    }
   }
  },
  {
   "cell_type": "code",
   "execution_count": 29,
   "outputs": [
    {
     "name": "stdout",
     "output_type": "stream",
     "text": [
      "\n",
      "accuracy_score on train dataset :  0.8230444272686899\n"
     ]
    }
   ],
   "source": [
    "# Accuracy Score on train dataset\n",
    "accuracy_train = accuracy_score(train_y,predict_train)\n",
    "print('\\naccuracy_score on train dataset : ', accuracy_train)"
   ],
   "metadata": {
    "collapsed": false,
    "pycharm": {
     "name": "#%%\n"
    }
   }
  },
  {
   "cell_type": "code",
   "execution_count": 30,
   "outputs": [
    {
     "name": "stdout",
     "output_type": "stream",
     "text": [
      "\n",
      "Target on test data [1 1 1 ... 0 0 0]\n"
     ]
    }
   ],
   "source": [
    "# predict the target on the test dataset\n",
    "predict_test = clf_xgb.predict(test_x)\n",
    "print('\\nTarget on test data',predict_test)"
   ],
   "metadata": {
    "collapsed": false,
    "pycharm": {
     "name": "#%%\n"
    }
   }
  },
  {
   "cell_type": "code",
   "execution_count": 31,
   "outputs": [
    {
     "name": "stdout",
     "output_type": "stream",
     "text": [
      "\n",
      "accuracy_score on test dataset :  0.864154657560014\n"
     ]
    }
   ],
   "source": [
    "# Accuracy Score on test dataset\n",
    "accuracy_test = accuracy_score(test_y,predict_test)\n",
    "print('\\naccuracy_score on test dataset : ', accuracy_test)"
   ],
   "metadata": {
    "collapsed": false,
    "pycharm": {
     "name": "#%%\n"
    }
   }
  },
  {
   "cell_type": "code",
   "execution_count": 32,
   "outputs": [
    {
     "data": {
      "text/plain": "<sklearn.metrics._plot.confusion_matrix.ConfusionMatrixDisplay at 0x1d5bda69fd0>"
     },
     "execution_count": 32,
     "metadata": {},
     "output_type": "execute_result"
    },
    {
     "data": {
      "text/plain": "<Figure size 432x288 with 2 Axes>",
      "image/png": "[encoded data removed]"
     },
     "metadata": {
      "needs_background": "light"
     },
     "output_type": "display_data"
    }
   ],
   "source": [
    "plot_confusion_matrix(clf_xgb,\n",
    "                      test_x,\n",
    "                      test_y,\n",
    "                      values_format='d',\n",
    "                      display_labels=[\"Did not reordered\", \"Reordered\"])"
   ],
   "metadata": {
    "collapsed": false,
    "pycharm": {
     "name": "#%%\n"
    }
   }
  },
  {
   "cell_type": "code",
   "execution_count": 33,
   "outputs": [
    {
     "name": "stdout",
     "output_type": "stream",
     "text": [
      "              precision    recall  f1-score   support\n",
      "\n",
      "           0       0.96      0.85      0.91   7845689\n",
      "           1       0.66      0.89      0.76   2441296\n",
      "\n",
      "    accuracy                           0.86  10286985\n",
      "   macro avg       0.81      0.87      0.83  10286985\n",
      "weighted avg       0.89      0.86      0.87  10286985\n",
      "\n"
     ]
    }
   ],
   "source": [
    "print(classification_report(predict_test, test_y))"
   ],
   "metadata": {
    "collapsed": false,
    "pycharm": {
     "name": "#%%\n"
    }
   }
  },
  {
   "cell_type": "code",
   "execution_count": 34,
   "outputs": [
    {
     "data": {
      "text/plain": "<sklearn.metrics._plot.roc_curve.RocCurveDisplay at 0x1d5bda9f7f0>"
     },
     "execution_count": 34,
     "metadata": {},
     "output_type": "execute_result"
    },
    {
     "data": {
      "text/plain": "<Figure size 432x288 with 1 Axes>",
      "image/png": "[encoded data removed]"
     },
     "metadata": {
      "needs_background": "light"
     },
     "output_type": "display_data"
    }
   ],
   "source": [
    "metrics.plot_roc_curve(clf_xgb, test_x, test_y)"
   ],
   "metadata": {
    "collapsed": false,
    "pycharm": {
     "name": "#%%\n"
    }
   }
  },
  {
   "cell_type": "markdown",
   "source": [
    "## Hyperparameter tuning"
   ],
   "metadata": {
    "collapsed": false
   }
  },
  {
   "cell_type": "code",
   "execution_count": 35,
   "outputs": [
    {
     "name": "stdout",
     "output_type": "stream",
     "text": [
      "Couldn't find program: 'skip'\n"
     ]
    }
   ],
   "source": [
    "%%script skip\n",
    "learning_rate_list = [0.02, 0.05, 0.1]\n",
    "max_depth_list = [2, 3, 5]\n",
    "n_estimators_list = [1000, 2000, 3000]\n",
    "\n",
    "params_dict = {\"learning_rate\": learning_rate_list,\n",
    "               \"max_depth\": max_depth_list,\n",
    "               \"n_estimators\": n_estimators_list}\n",
    "\n",
    "num_combinations = 1\n",
    "for v in params_dict.values(): num_combinations *= len(v)\n",
    "\n",
    "print(num_combinations)\n",
    "params_dict"
   ],
   "metadata": {
    "collapsed": false,
    "pycharm": {
     "name": "#%%\n"
    }
   }
  },
  {
   "cell_type": "code",
   "execution_count": 36,
   "outputs": [
    {
     "name": "stdout",
     "output_type": "stream",
     "text": [
      "Couldn't find program: 'skip'\n"
     ]
    }
   ],
   "source": [
    "%%script skip\n",
    "\n",
    "def my_roc_auc_score(model, train_x, train_y): return roc_auc_score(train_y, model.predict_proba(train_x)[:,1])\n",
    "\n",
    "model_xgboost_hp = GridSearchCV(estimator=xgb.XGBClassifier(subsample=0.5,\n",
    "                                                            colsample_bytree=0.25,\n",
    "                                                            eval_metric='auc',\n",
    "                                                            use_label_encoder=False),\n",
    "                                param_grid=params_dict,\n",
    "                                cv=2,\n",
    "                                scoring=my_roc_auc_score,\n",
    "                                return_train_score=True,\n",
    "                                verbose=4)\n",
    "\n",
    "model_xgboost_hp.fit(train_x, train_y)"
   ],
   "metadata": {
    "collapsed": false,
    "pycharm": {
     "name": "#%%\n"
    }
   }
  },
  {
   "cell_type": "markdown",
   "source": [
    "## Probability"
   ],
   "metadata": {
    "collapsed": false
   }
  },
  {
   "cell_type": "code",
   "execution_count": 37,
   "outputs": [
    {
     "name": "stdout",
     "output_type": "stream",
     "text": [
      "\n",
      "Target on test data [9.9987543e-01 9.8502362e-01 9.9978620e-01 ... 5.4356973e-05 7.1299924e-05\n",
      " 7.3440329e-05]\n"
     ]
    }
   ],
   "source": [
    "# predict the target on the test dataset\n",
    "predict_test_proba = clf_xgb.predict_proba(test_x)[:, 1]\n",
    "print('\\nTarget on test data',predict_test_proba)"
   ],
   "metadata": {
    "collapsed": false,
    "pycharm": {
     "name": "#%%\n"
    }
   }
  },
  {
   "cell_type": "code",
   "execution_count": 39,
   "outputs": [
    {
     "data": {
      "text/plain": "(10286985, 1)"
     },
     "execution_count": 39,
     "metadata": {},
     "output_type": "execute_result"
    }
   ],
   "source": [
    "df_pred = pd.DataFrame(predict_test_proba)\n",
    "df_pred.columns = [\"probability\"]\n",
    "df_pred.shape"
   ],
   "metadata": {
    "collapsed": false,
    "pycharm": {
     "name": "#%%\n"
    }
   }
  },
  {
   "cell_type": "code",
   "execution_count": 40,
   "outputs": [
    {
     "data": {
      "text/plain": "  site_id content_id                  category     price  site_prod_trx  \\\n0  ADL001   00033315               PV _ Others    8000.0            338   \n1  ADL001   00027265  CVM (BTL) _ Combo Pacman   76000.0            271   \n2  ADL001   00033653     CVM (BTL) _ Combo Max   25000.0            255   \n3  ADL001   00033652     CVM (BTL) _ Combo Max   10000.0            143   \n4  ADL001   00027268  CVM (BTL) _ Combo Pacman  102000.0            120   \n\n   num_package_purchased  site_trx  site_reorder_trx  num_msisdn_purchaser  \\\n0                    272      3299               829               7972633   \n1                    272      3299               829               2947721   \n2                    272      3299               829                820697   \n3                    272      3299               829                468057   \n4                    272      3299               829               1610943   \n\n   prod_trx  prod_reorder_trx  reordered  \n0  34444426          24621720          1  \n1   3349409            178244          1  \n2   1567051            486974          1  \n3   1077516            443835          1  \n4   1841072             94865          1  ",
      "text/html": "<div>\n<style scoped>\n    .dataframe tbody tr th:only-of-type {\n        vertical-align: middle;\n    }\n\n    .dataframe tbody tr th {\n        vertical-align: top;\n    }\n\n    .dataframe thead th {\n        text-align: right;\n    }\n</style>\n<table border=\"1\" class=\"dataframe\">\n  <thead>\n    <tr style=\"text-align: right;\">\n      <th></th>\n      <th>site_id</th>\n      <th>content_id</th>\n      <th>category</th>\n      <th>price</th>\n      <th>site_prod_trx</th>\n      <th>num_package_purchased</th>\n      <th>site_trx</th>\n      <th>site_reorder_trx</th>\n      <th>num_msisdn_purchaser</th>\n      <th>prod_trx</th>\n      <th>prod_reorder_trx</th>\n      <th>reordered</th>\n    </tr>\n  </thead>\n  <tbody>\n    <tr>\n      <th>0</th>\n      <td>ADL001</td>\n      <td>00033315</td>\n      <td>PV _ Others</td>\n      <td>8000.0</td>\n      <td>338</td>\n      <td>272</td>\n      <td>3299</td>\n      <td>829</td>\n      <td>7972633</td>\n      <td>34444426</td>\n      <td>24621720</td>\n      <td>1</td>\n    </tr>\n    <tr>\n      <th>1</th>\n      <td>ADL001</td>\n      <td>00027265</td>\n      <td>CVM (BTL) _ Combo Pacman</td>\n      <td>76000.0</td>\n      <td>271</td>\n      <td>272</td>\n      <td>3299</td>\n      <td>829</td>\n      <td>2947721</td>\n      <td>3349409</td>\n      <td>178244</td>\n      <td>1</td>\n    </tr>\n    <tr>\n      <th>2</th>\n      <td>ADL001</td>\n      <td>00033653</td>\n      <td>CVM (BTL) _ Combo Max</td>\n      <td>25000.0</td>\n      <td>255</td>\n      <td>272</td>\n      <td>3299</td>\n      <td>829</td>\n      <td>820697</td>\n      <td>1567051</td>\n      <td>486974</td>\n      <td>1</td>\n    </tr>\n    <tr>\n      <th>3</th>\n      <td>ADL001</td>\n      <td>00033652</td>\n      <td>CVM (BTL) _ Combo Max</td>\n      <td>10000.0</td>\n      <td>143</td>\n      <td>272</td>\n      <td>3299</td>\n      <td>829</td>\n      <td>468057</td>\n      <td>1077516</td>\n      <td>443835</td>\n      <td>1</td>\n    </tr>\n    <tr>\n      <th>4</th>\n      <td>ADL001</td>\n      <td>00027268</td>\n      <td>CVM (BTL) _ Combo Pacman</td>\n      <td>102000.0</td>\n      <td>120</td>\n      <td>272</td>\n      <td>3299</td>\n      <td>829</td>\n      <td>1610943</td>\n      <td>1841072</td>\n      <td>94865</td>\n      <td>1</td>\n    </tr>\n  </tbody>\n</table>\n</div>"
     },
     "execution_count": 40,
     "metadata": {},
     "output_type": "execute_result"
    }
   ],
   "source": [
    "df_finals = df_test\n",
    "df_finals.head()"
   ],
   "metadata": {
    "collapsed": false,
    "pycharm": {
     "name": "#%%\n"
    }
   }
  },
  {
   "cell_type": "code",
   "execution_count": 41,
   "outputs": [
    {
     "data": {
      "text/plain": "(10286985, 12)"
     },
     "execution_count": 41,
     "metadata": {},
     "output_type": "execute_result"
    }
   ],
   "source": [
    "df_finals.shape"
   ],
   "metadata": {
    "collapsed": false,
    "pycharm": {
     "name": "#%%\n"
    }
   }
  },
  {
   "cell_type": "code",
   "execution_count": 42,
   "outputs": [
    {
     "data": {
      "text/plain": "  site_id content_id                  category     price  site_prod_trx  \\\n0  ADL001   00033315               PV _ Others    8000.0            338   \n1  ADL001   00027265  CVM (BTL) _ Combo Pacman   76000.0            271   \n2  ADL001   00033653     CVM (BTL) _ Combo Max   25000.0            255   \n3  ADL001   00033652     CVM (BTL) _ Combo Max   10000.0            143   \n4  ADL001   00027268  CVM (BTL) _ Combo Pacman  102000.0            120   \n\n   num_package_purchased  site_trx  site_reorder_trx  num_msisdn_purchaser  \\\n0                    272      3299               829               7972633   \n1                    272      3299               829               2947721   \n2                    272      3299               829                820697   \n3                    272      3299               829                468057   \n4                    272      3299               829               1610943   \n\n   prod_trx  prod_reorder_trx  reordered  propensity_score  \n0  34444426          24621720          1          0.999875  \n1   3349409            178244          1          0.985024  \n2   1567051            486974          1          0.999786  \n3   1077516            443835          1          0.999804  \n4   1841072             94865          1          0.967394  ",
      "text/html": "<div>\n<style scoped>\n    .dataframe tbody tr th:only-of-type {\n        vertical-align: middle;\n    }\n\n    .dataframe tbody tr th {\n        vertical-align: top;\n    }\n\n    .dataframe thead th {\n        text-align: right;\n    }\n</style>\n<table border=\"1\" class=\"dataframe\">\n  <thead>\n    <tr style=\"text-align: right;\">\n      <th></th>\n      <th>site_id</th>\n      <th>content_id</th>\n      <th>category</th>\n      <th>price</th>\n      <th>site_prod_trx</th>\n      <th>num_package_purchased</th>\n      <th>site_trx</th>\n      <th>site_reorder_trx</th>\n      <th>num_msisdn_purchaser</th>\n      <th>prod_trx</th>\n      <th>prod_reorder_trx</th>\n      <th>reordered</th>\n      <th>propensity_score</th>\n    </tr>\n  </thead>\n  <tbody>\n    <tr>\n      <th>0</th>\n      <td>ADL001</td>\n      <td>00033315</td>\n      <td>PV _ Others</td>\n      <td>8000.0</td>\n      <td>338</td>\n      <td>272</td>\n      <td>3299</td>\n      <td>829</td>\n      <td>7972633</td>\n      <td>34444426</td>\n      <td>24621720</td>\n      <td>1</td>\n      <td>0.999875</td>\n    </tr>\n    <tr>\n      <th>1</th>\n      <td>ADL001</td>\n      <td>00027265</td>\n      <td>CVM (BTL) _ Combo Pacman</td>\n      <td>76000.0</td>\n      <td>271</td>\n      <td>272</td>\n      <td>3299</td>\n      <td>829</td>\n      <td>2947721</td>\n      <td>3349409</td>\n      <td>178244</td>\n      <td>1</td>\n      <td>0.985024</td>\n    </tr>\n    <tr>\n      <th>2</th>\n      <td>ADL001</td>\n      <td>00033653</td>\n      <td>CVM (BTL) _ Combo Max</td>\n      <td>25000.0</td>\n      <td>255</td>\n      <td>272</td>\n      <td>3299</td>\n      <td>829</td>\n      <td>820697</td>\n      <td>1567051</td>\n      <td>486974</td>\n      <td>1</td>\n      <td>0.999786</td>\n    </tr>\n    <tr>\n      <th>3</th>\n      <td>ADL001</td>\n      <td>00033652</td>\n      <td>CVM (BTL) _ Combo Max</td>\n      <td>10000.0</td>\n      <td>143</td>\n      <td>272</td>\n      <td>3299</td>\n      <td>829</td>\n      <td>468057</td>\n      <td>1077516</td>\n      <td>443835</td>\n      <td>1</td>\n      <td>0.999804</td>\n    </tr>\n    <tr>\n      <th>4</th>\n      <td>ADL001</td>\n      <td>00027268</td>\n      <td>CVM (BTL) _ Combo Pacman</td>\n      <td>102000.0</td>\n      <td>120</td>\n      <td>272</td>\n      <td>3299</td>\n      <td>829</td>\n      <td>1610943</td>\n      <td>1841072</td>\n      <td>94865</td>\n      <td>1</td>\n      <td>0.967394</td>\n    </tr>\n  </tbody>\n</table>\n</div>"
     },
     "execution_count": 42,
     "metadata": {},
     "output_type": "execute_result"
    }
   ],
   "source": [
    "df_finals[\"propensity_score\"] = predict_test_proba\n",
    "df_finals.head()"
   ],
   "metadata": {
    "collapsed": false,
    "pycharm": {
     "name": "#%%\n"
    }
   }
  },
  {
   "cell_type": "code",
   "execution_count": 43,
   "outputs": [],
   "source": [
    "df_finals[\"content_id\"].fillna(0, inplace=True)"
   ],
   "metadata": {
    "collapsed": false,
    "pycharm": {
     "name": "#%%\n"
    }
   }
  },
  {
   "cell_type": "code",
   "execution_count": 44,
   "outputs": [],
   "source": [
    "df_finals['rn'] = df_finals.sort_values([\"propensity_score\"], ascending=False).groupby(['site_id']).cumcount() + 1"
   ],
   "metadata": {
    "collapsed": false,
    "pycharm": {
     "name": "#%%\n"
    }
   }
  },
  {
   "cell_type": "code",
   "execution_count": 45,
   "outputs": [
    {
     "data": {
      "text/plain": "  site_id content_id                  category     price  site_prod_trx  \\\n0  ADL001   00033315               PV _ Others    8000.0            338   \n1  ADL001   00027265  CVM (BTL) _ Combo Pacman   76000.0            271   \n2  ADL001   00033653     CVM (BTL) _ Combo Max   25000.0            255   \n3  ADL001   00033652     CVM (BTL) _ Combo Max   10000.0            143   \n4  ADL001   00027268  CVM (BTL) _ Combo Pacman  102000.0            120   \n\n   num_package_purchased  site_trx  site_reorder_trx  num_msisdn_purchaser  \\\n0                    272      3299               829               7972633   \n1                    272      3299               829               2947721   \n2                    272      3299               829                820697   \n3                    272      3299               829                468057   \n4                    272      3299               829               1610943   \n\n   prod_trx  prod_reorder_trx  reordered  propensity_score  rn  \n0  34444426          24621720          1          0.999875   1  \n1   3349409            178244          1          0.985024  22  \n2   1567051            486974          1          0.999786   4  \n3   1077516            443835          1          0.999804   3  \n4   1841072             94865          1          0.967394  27  ",
      "text/html": "<div>\n<style scoped>\n    .dataframe tbody tr th:only-of-type {\n        vertical-align: middle;\n    }\n\n    .dataframe tbody tr th {\n        vertical-align: top;\n    }\n\n    .dataframe thead th {\n        text-align: right;\n    }\n</style>\n<table border=\"1\" class=\"dataframe\">\n  <thead>\n    <tr style=\"text-align: right;\">\n      <th></th>\n      <th>site_id</th>\n      <th>content_id</th>\n      <th>category</th>\n      <th>price</th>\n      <th>site_prod_trx</th>\n      <th>num_package_purchased</th>\n      <th>site_trx</th>\n      <th>site_reorder_trx</th>\n      <th>num_msisdn_purchaser</th>\n      <th>prod_trx</th>\n      <th>prod_reorder_trx</th>\n      <th>reordered</th>\n      <th>propensity_score</th>\n      <th>rn</th>\n    </tr>\n  </thead>\n  <tbody>\n    <tr>\n      <th>0</th>\n      <td>ADL001</td>\n      <td>00033315</td>\n      <td>PV _ Others</td>\n      <td>8000.0</td>\n      <td>338</td>\n      <td>272</td>\n      <td>3299</td>\n      <td>829</td>\n      <td>7972633</td>\n      <td>34444426</td>\n      <td>24621720</td>\n      <td>1</td>\n      <td>0.999875</td>\n      <td>1</td>\n    </tr>\n    <tr>\n      <th>1</th>\n      <td>ADL001</td>\n      <td>00027265</td>\n      <td>CVM (BTL) _ Combo Pacman</td>\n      <td>76000.0</td>\n      <td>271</td>\n      <td>272</td>\n      <td>3299</td>\n      <td>829</td>\n      <td>2947721</td>\n      <td>3349409</td>\n      <td>178244</td>\n      <td>1</td>\n      <td>0.985024</td>\n      <td>22</td>\n    </tr>\n    <tr>\n      <th>2</th>\n      <td>ADL001</td>\n      <td>00033653</td>\n      <td>CVM (BTL) _ Combo Max</td>\n      <td>25000.0</td>\n      <td>255</td>\n      <td>272</td>\n      <td>3299</td>\n      <td>829</td>\n      <td>820697</td>\n      <td>1567051</td>\n      <td>486974</td>\n      <td>1</td>\n      <td>0.999786</td>\n      <td>4</td>\n    </tr>\n    <tr>\n      <th>3</th>\n      <td>ADL001</td>\n      <td>00033652</td>\n      <td>CVM (BTL) _ Combo Max</td>\n      <td>10000.0</td>\n      <td>143</td>\n      <td>272</td>\n      <td>3299</td>\n      <td>829</td>\n      <td>468057</td>\n      <td>1077516</td>\n      <td>443835</td>\n      <td>1</td>\n      <td>0.999804</td>\n      <td>3</td>\n    </tr>\n    <tr>\n      <th>4</th>\n      <td>ADL001</td>\n      <td>00027268</td>\n      <td>CVM (BTL) _ Combo Pacman</td>\n      <td>102000.0</td>\n      <td>120</td>\n      <td>272</td>\n      <td>3299</td>\n      <td>829</td>\n      <td>1610943</td>\n      <td>1841072</td>\n      <td>94865</td>\n      <td>1</td>\n      <td>0.967394</td>\n      <td>27</td>\n    </tr>\n  </tbody>\n</table>\n</div>"
     },
     "execution_count": 45,
     "metadata": {},
     "output_type": "execute_result"
    }
   ],
   "source": [
    "df_finals.head()"
   ],
   "metadata": {
    "collapsed": false,
    "pycharm": {
     "name": "#%%\n"
    }
   }
  },
  {
   "cell_type": "code",
   "execution_count": 46,
   "outputs": [
    {
     "data": {
      "text/plain": "(10286985, 14)"
     },
     "execution_count": 46,
     "metadata": {},
     "output_type": "execute_result"
    }
   ],
   "source": [
    "df_finals.shape"
   ],
   "metadata": {
    "collapsed": false,
    "pycharm": {
     "name": "#%%\n"
    }
   }
  },
  {
   "cell_type": "code",
   "execution_count": 47,
   "outputs": [],
   "source": [
    "# noinspection SpellCheckingInspection\n",
    "df_final = df_finals[df_finals[\"rn\"]<=20]"
   ],
   "metadata": {
    "collapsed": false,
    "pycharm": {
     "name": "#%%\n"
    }
   }
  },
  {
   "cell_type": "code",
   "execution_count": 48,
   "outputs": [
    {
     "data": {
      "text/plain": "(1248589, 14)"
     },
     "execution_count": 48,
     "metadata": {},
     "output_type": "execute_result"
    }
   ],
   "source": [
    "df_final.shape"
   ],
   "metadata": {
    "collapsed": false,
    "pycharm": {
     "name": "#%%\n"
    }
   }
  },
  {
   "cell_type": "code",
   "execution_count": 49,
   "outputs": [
    {
     "data": {
      "text/plain": "  site_id content_id               category    price  site_prod_trx  \\\n0  ADL001   00033315            PV _ Others   8000.0            338   \n2  ADL001   00033653  CVM (BTL) _ Combo Max  25000.0            255   \n3  ADL001   00033652  CVM (BTL) _ Combo Max  10000.0            143   \n5  ADL001   00033673  CVM (BTL) _ Combo Max  25000.0            105   \n6  ADL001   00013546  CVM (BTL) _ Combo BAU  91000.0             80   \n\n   num_package_purchased  site_trx  site_reorder_trx  num_msisdn_purchaser  \\\n0                    272      3299               829               7972633   \n2                    272      3299               829                820697   \n3                    272      3299               829                468057   \n5                    272      3299               829               1104175   \n6                    272      3299               829                236084   \n\n   prod_trx  prod_reorder_trx  reordered  propensity_score  rn  \n0  34444426          24621720          1          0.999875   1  \n2   1567051            486974          1          0.999786   4  \n3   1077516            443835          1          0.999804   3  \n5   1737946            407015          1          0.999657   5  \n6    352634             63171          1          0.996062  12  ",
      "text/html": "<div>\n<style scoped>\n    .dataframe tbody tr th:only-of-type {\n        vertical-align: middle;\n    }\n\n    .dataframe tbody tr th {\n        vertical-align: top;\n    }\n\n    .dataframe thead th {\n        text-align: right;\n    }\n</style>\n<table border=\"1\" class=\"dataframe\">\n  <thead>\n    <tr style=\"text-align: right;\">\n      <th></th>\n      <th>site_id</th>\n      <th>content_id</th>\n      <th>category</th>\n      <th>price</th>\n      <th>site_prod_trx</th>\n      <th>num_package_purchased</th>\n      <th>site_trx</th>\n      <th>site_reorder_trx</th>\n      <th>num_msisdn_purchaser</th>\n      <th>prod_trx</th>\n      <th>prod_reorder_trx</th>\n      <th>reordered</th>\n      <th>propensity_score</th>\n      <th>rn</th>\n    </tr>\n  </thead>\n  <tbody>\n    <tr>\n      <th>0</th>\n      <td>ADL001</td>\n      <td>00033315</td>\n      <td>PV _ Others</td>\n      <td>8000.0</td>\n      <td>338</td>\n      <td>272</td>\n      <td>3299</td>\n      <td>829</td>\n      <td>7972633</td>\n      <td>34444426</td>\n      <td>24621720</td>\n      <td>1</td>\n      <td>0.999875</td>\n      <td>1</td>\n    </tr>\n    <tr>\n      <th>2</th>\n      <td>ADL001</td>\n      <td>00033653</td>\n      <td>CVM (BTL) _ Combo Max</td>\n      <td>25000.0</td>\n      <td>255</td>\n      <td>272</td>\n      <td>3299</td>\n      <td>829</td>\n      <td>820697</td>\n      <td>1567051</td>\n      <td>486974</td>\n      <td>1</td>\n      <td>0.999786</td>\n      <td>4</td>\n    </tr>\n    <tr>\n      <th>3</th>\n      <td>ADL001</td>\n      <td>00033652</td>\n      <td>CVM (BTL) _ Combo Max</td>\n      <td>10000.0</td>\n      <td>143</td>\n      <td>272</td>\n      <td>3299</td>\n      <td>829</td>\n      <td>468057</td>\n      <td>1077516</td>\n      <td>443835</td>\n      <td>1</td>\n      <td>0.999804</td>\n      <td>3</td>\n    </tr>\n    <tr>\n      <th>5</th>\n      <td>ADL001</td>\n      <td>00033673</td>\n      <td>CVM (BTL) _ Combo Max</td>\n      <td>25000.0</td>\n      <td>105</td>\n      <td>272</td>\n      <td>3299</td>\n      <td>829</td>\n      <td>1104175</td>\n      <td>1737946</td>\n      <td>407015</td>\n      <td>1</td>\n      <td>0.999657</td>\n      <td>5</td>\n    </tr>\n    <tr>\n      <th>6</th>\n      <td>ADL001</td>\n      <td>00013546</td>\n      <td>CVM (BTL) _ Combo BAU</td>\n      <td>91000.0</td>\n      <td>80</td>\n      <td>272</td>\n      <td>3299</td>\n      <td>829</td>\n      <td>236084</td>\n      <td>352634</td>\n      <td>63171</td>\n      <td>1</td>\n      <td>0.996062</td>\n      <td>12</td>\n    </tr>\n  </tbody>\n</table>\n</div>"
     },
     "execution_count": 49,
     "metadata": {},
     "output_type": "execute_result"
    }
   ],
   "source": [
    "rep_atl_result = df_final\n",
    "rep_atl_result.head()"
   ],
   "metadata": {
    "collapsed": false,
    "pycharm": {
     "name": "#%%\n"
    }
   }
  },
  {
   "cell_type": "markdown",
   "source": [
    "# Result Export"
   ],
   "metadata": {
    "collapsed": false
   }
  },
  {
   "cell_type": "code",
   "execution_count": 50,
   "outputs": [],
   "source": [
    "rep_atl_result.to_csv('package_repurchased_result_atl.csv.gz', header=True, index=False, compression=\"gzip\")"
   ],
   "metadata": {
    "collapsed": false,
    "pycharm": {
     "name": "#%%\n"
    }
   }
  },
  {
   "cell_type": "markdown",
   "source": [],
   "metadata": {
    "collapsed": false
   }
  },
  {
   "cell_type": "code",
   "execution_count": 63,
   "outputs": [],
   "source": [
    "df_result=pd.read_csv(\"package_repurchased_result_atl.csv.gz\", compression=\"gzip\", low_memory=False)"
   ],
   "metadata": {
    "collapsed": false,
    "pycharm": {
     "name": "#%%\n"
    }
   }
  },
  {
   "cell_type": "markdown",
   "source": [
    "# DRAFT"
   ],
   "metadata": {
    "collapsed": false
   }
  },
  {
   "cell_type": "markdown",
   "source": [
    "## Cosine Similarity"
   ],
   "metadata": {
    "collapsed": false
   }
  },
  {
   "cell_type": "markdown",
   "source": [
    "### Dataset Creation"
   ],
   "metadata": {
    "collapsed": false
   }
  },
  {
   "cell_type": "code",
   "execution_count": 51,
   "outputs": [
    {
     "data": {
      "text/plain": "   yearmonth site_id content_id                  category     price  \\\n0     202112  ADL001   00033315               PV _ Others    8000.0   \n1     202112  ADL001   00027265  CVM (BTL) _ Combo Pacman   76000.0   \n2     202112  ADL001   00033653     CVM (BTL) _ Combo Max   25000.0   \n3     202112  ADL001   00033652     CVM (BTL) _ Combo Max   10000.0   \n4     202112  ADL001   00027268  CVM (BTL) _ Combo Pacman  102000.0   \n\n   site_prod_trx  site_prod_reorder_trx  num_package_purchased  site_trx  \\\n0            338                    222                    272      3299   \n1            271                     15                    272      3299   \n2            255                     87                    272      3299   \n3            143                     58                    272      3299   \n4            120                     13                    272      3299   \n\n   site_reorder_trx  num_msisdn_purchaser  prod_trx  prod_reorder_trx  \\\n0               829               7972633  34444426          24621720   \n1               829               2947721   3349409            178244   \n2               829                820697   1567051            486974   \n3               829                468057   1077516            443835   \n4               829               1610943   1841072             94865   \n\n   reordered  rn  \n0          1   1  \n1          1   2  \n2          1   3  \n3          1   4  \n4          1   5  ",
      "text/html": "<div>\n<style scoped>\n    .dataframe tbody tr th:only-of-type {\n        vertical-align: middle;\n    }\n\n    .dataframe tbody tr th {\n        vertical-align: top;\n    }\n\n    .dataframe thead th {\n        text-align: right;\n    }\n</style>\n<table border=\"1\" class=\"dataframe\">\n  <thead>\n    <tr style=\"text-align: right;\">\n      <th></th>\n      <th>yearmonth</th>\n      <th>site_id</th>\n      <th>content_id</th>\n      <th>category</th>\n      <th>price</th>\n      <th>site_prod_trx</th>\n      <th>site_prod_reorder_trx</th>\n      <th>num_package_purchased</th>\n      <th>site_trx</th>\n      <th>site_reorder_trx</th>\n      <th>num_msisdn_purchaser</th>\n      <th>prod_trx</th>\n      <th>prod_reorder_trx</th>\n      <th>reordered</th>\n      <th>rn</th>\n    </tr>\n  </thead>\n  <tbody>\n    <tr>\n      <th>0</th>\n      <td>202112</td>\n      <td>ADL001</td>\n      <td>00033315</td>\n      <td>PV _ Others</td>\n      <td>8000.0</td>\n      <td>338</td>\n      <td>222</td>\n      <td>272</td>\n      <td>3299</td>\n      <td>829</td>\n      <td>7972633</td>\n      <td>34444426</td>\n      <td>24621720</td>\n      <td>1</td>\n      <td>1</td>\n    </tr>\n    <tr>\n      <th>1</th>\n      <td>202112</td>\n      <td>ADL001</td>\n      <td>00027265</td>\n      <td>CVM (BTL) _ Combo Pacman</td>\n      <td>76000.0</td>\n      <td>271</td>\n      <td>15</td>\n      <td>272</td>\n      <td>3299</td>\n      <td>829</td>\n      <td>2947721</td>\n      <td>3349409</td>\n      <td>178244</td>\n      <td>1</td>\n      <td>2</td>\n    </tr>\n    <tr>\n      <th>2</th>\n      <td>202112</td>\n      <td>ADL001</td>\n      <td>00033653</td>\n      <td>CVM (BTL) _ Combo Max</td>\n      <td>25000.0</td>\n      <td>255</td>\n      <td>87</td>\n      <td>272</td>\n      <td>3299</td>\n      <td>829</td>\n      <td>820697</td>\n      <td>1567051</td>\n      <td>486974</td>\n      <td>1</td>\n      <td>3</td>\n    </tr>\n    <tr>\n      <th>3</th>\n      <td>202112</td>\n      <td>ADL001</td>\n      <td>00033652</td>\n      <td>CVM (BTL) _ Combo Max</td>\n      <td>10000.0</td>\n      <td>143</td>\n      <td>58</td>\n      <td>272</td>\n      <td>3299</td>\n      <td>829</td>\n      <td>468057</td>\n      <td>1077516</td>\n      <td>443835</td>\n      <td>1</td>\n      <td>4</td>\n    </tr>\n    <tr>\n      <th>4</th>\n      <td>202112</td>\n      <td>ADL001</td>\n      <td>00027268</td>\n      <td>CVM (BTL) _ Combo Pacman</td>\n      <td>102000.0</td>\n      <td>120</td>\n      <td>13</td>\n      <td>272</td>\n      <td>3299</td>\n      <td>829</td>\n      <td>1610943</td>\n      <td>1841072</td>\n      <td>94865</td>\n      <td>1</td>\n      <td>5</td>\n    </tr>\n  </tbody>\n</table>\n</div>"
     },
     "execution_count": 51,
     "metadata": {},
     "output_type": "execute_result"
    }
   ],
   "source": [
    "df202112.head()"
   ],
   "metadata": {
    "collapsed": false,
    "pycharm": {
     "name": "#%%\n"
    }
   }
  },
  {
   "cell_type": "code",
   "execution_count": 52,
   "outputs": [
    {
     "data": {
      "text/plain": "  site_id          category     price  sum_trx             cat\n0  ADL001  Bundling _ Orbit   10000.0        1  Bundling_Orbit\n1  ADL001  Bundling _ Orbit   30000.0        7  Bundling_Orbit\n2  ADL001  Bundling _ Orbit   80000.0        4  Bundling_Orbit\n3  ADL001  Bundling _ Orbit  175000.0        3  Bundling_Orbit\n4  ADL001    CVM (BTL) _ 4G   10000.0       49     CVM(BTL)_4G",
      "text/html": "<div>\n<style scoped>\n    .dataframe tbody tr th:only-of-type {\n        vertical-align: middle;\n    }\n\n    .dataframe tbody tr th {\n        vertical-align: top;\n    }\n\n    .dataframe thead th {\n        text-align: right;\n    }\n</style>\n<table border=\"1\" class=\"dataframe\">\n  <thead>\n    <tr style=\"text-align: right;\">\n      <th></th>\n      <th>site_id</th>\n      <th>category</th>\n      <th>price</th>\n      <th>sum_trx</th>\n      <th>cat</th>\n    </tr>\n  </thead>\n  <tbody>\n    <tr>\n      <th>0</th>\n      <td>ADL001</td>\n      <td>Bundling _ Orbit</td>\n      <td>10000.0</td>\n      <td>1</td>\n      <td>Bundling_Orbit</td>\n    </tr>\n    <tr>\n      <th>1</th>\n      <td>ADL001</td>\n      <td>Bundling _ Orbit</td>\n      <td>30000.0</td>\n      <td>7</td>\n      <td>Bundling_Orbit</td>\n    </tr>\n    <tr>\n      <th>2</th>\n      <td>ADL001</td>\n      <td>Bundling _ Orbit</td>\n      <td>80000.0</td>\n      <td>4</td>\n      <td>Bundling_Orbit</td>\n    </tr>\n    <tr>\n      <th>3</th>\n      <td>ADL001</td>\n      <td>Bundling _ Orbit</td>\n      <td>175000.0</td>\n      <td>3</td>\n      <td>Bundling_Orbit</td>\n    </tr>\n    <tr>\n      <th>4</th>\n      <td>ADL001</td>\n      <td>CVM (BTL) _ 4G</td>\n      <td>10000.0</td>\n      <td>49</td>\n      <td>CVM(BTL)_4G</td>\n    </tr>\n  </tbody>\n</table>\n</div>"
     },
     "execution_count": 52,
     "metadata": {},
     "output_type": "execute_result"
    }
   ],
   "source": [
    "similarity = df202112.groupby(['site_id','category','price'])\\\n",
    "    .agg({'site_prod_trx': 'sum'})\\\n",
    "    .rename(columns={'site_prod_trx': 'sum_trx'})\n",
    "\n",
    "similarity.columns = similarity.columns.map(''.join)\n",
    "similarity = similarity.reset_index()\n",
    "\n",
    "similarity['cat']=similarity['category'].str.replace(' ', '')\n",
    "similarity.head()"
   ],
   "metadata": {
    "collapsed": false,
    "pycharm": {
     "name": "#%%\n"
    }
   }
  },
  {
   "cell_type": "code",
   "execution_count": 53,
   "outputs": [
    {
     "data": {
      "text/plain": "  site_id          category     price  sum_trx             cat  \\\n0  ADL001  Bundling _ Orbit   10000.0        1  Bundling_Orbit   \n1  ADL001  Bundling _ Orbit   30000.0        7  Bundling_Orbit   \n2  ADL001  Bundling _ Orbit   80000.0        4  Bundling_Orbit   \n3  ADL001  Bundling _ Orbit  175000.0        3  Bundling_Orbit   \n4  ADL001    CVM (BTL) _ 4G   10000.0       49     CVM(BTL)_4G   \n\n                denom  \n0     deno_7500_10000  \n1    deno_25000_30000  \n2   deno_75000_100000  \n3  deno_150000_175000  \n4     deno_7500_10000  ",
      "text/html": "<div>\n<style scoped>\n    .dataframe tbody tr th:only-of-type {\n        vertical-align: middle;\n    }\n\n    .dataframe tbody tr th {\n        vertical-align: top;\n    }\n\n    .dataframe thead th {\n        text-align: right;\n    }\n</style>\n<table border=\"1\" class=\"dataframe\">\n  <thead>\n    <tr style=\"text-align: right;\">\n      <th></th>\n      <th>site_id</th>\n      <th>category</th>\n      <th>price</th>\n      <th>sum_trx</th>\n      <th>cat</th>\n      <th>denom</th>\n    </tr>\n  </thead>\n  <tbody>\n    <tr>\n      <th>0</th>\n      <td>ADL001</td>\n      <td>Bundling _ Orbit</td>\n      <td>10000.0</td>\n      <td>1</td>\n      <td>Bundling_Orbit</td>\n      <td>deno_7500_10000</td>\n    </tr>\n    <tr>\n      <th>1</th>\n      <td>ADL001</td>\n      <td>Bundling _ Orbit</td>\n      <td>30000.0</td>\n      <td>7</td>\n      <td>Bundling_Orbit</td>\n      <td>deno_25000_30000</td>\n    </tr>\n    <tr>\n      <th>2</th>\n      <td>ADL001</td>\n      <td>Bundling _ Orbit</td>\n      <td>80000.0</td>\n      <td>4</td>\n      <td>Bundling_Orbit</td>\n      <td>deno_75000_100000</td>\n    </tr>\n    <tr>\n      <th>3</th>\n      <td>ADL001</td>\n      <td>Bundling _ Orbit</td>\n      <td>175000.0</td>\n      <td>3</td>\n      <td>Bundling_Orbit</td>\n      <td>deno_150000_175000</td>\n    </tr>\n    <tr>\n      <th>4</th>\n      <td>ADL001</td>\n      <td>CVM (BTL) _ 4G</td>\n      <td>10000.0</td>\n      <td>49</td>\n      <td>CVM(BTL)_4G</td>\n      <td>deno_7500_10000</td>\n    </tr>\n  </tbody>\n</table>\n</div>"
     },
     "execution_count": 53,
     "metadata": {},
     "output_type": "execute_result"
    }
   ],
   "source": [
    "def denom_range(x):\n",
    "    if (x >= 1000) and (x <= 2500):\n",
    "        return 'deno_1000_2500'\n",
    "    elif (x > 2500) and (x <= 5000):\n",
    "        return 'deno_2500_5000'\n",
    "    elif (x > 5000) and (x <= 7500):\n",
    "        return 'deno_5000_7500'\n",
    "    elif (x > 7500) and (x <= 10000):\n",
    "        return 'deno_7500_10000'\n",
    "    elif (x > 10000) and (x <= 12500):\n",
    "        return 'deno_10000_12500'\n",
    "    elif (x > 12500) and (x <= 15000):\n",
    "        return 'deno_12500_15000'\n",
    "    elif (x > 15000) and (x <= 20000):\n",
    "        return 'deno_15000_20000'\n",
    "    elif (x > 20000) and (x <= 25000):\n",
    "        return 'deno_20000_25000'\n",
    "    elif (x > 25000) and (x <= 30000):\n",
    "        return 'deno_25000_30000'\n",
    "    elif (x > 30000) and (x <= 35000):\n",
    "        return 'deno_30000_35000'\n",
    "    elif (x > 35000) and (x <= 40000):\n",
    "        return 'deno_35000_40000'\n",
    "    elif (x > 40000) and (x <= 45000):\n",
    "        return 'deno_40000_45000'\n",
    "    elif (x > 45000) and (x <= 50000):\n",
    "        return 'deno_45000_50000'\n",
    "    elif (x > 50000) and (x <= 75000):\n",
    "        return 'deno_50000_75000'\n",
    "    elif (x > 75000) and (x <= 100000):\n",
    "        return 'deno_75000_100000'\n",
    "    elif (x > 100000) and (x <= 125000):\n",
    "        return 'deno_100000_125000'\n",
    "    elif (x > 125000) and (x <= 150000):\n",
    "        return 'deno_125000_150000'\n",
    "    elif (x > 150000) and (x <= 175000):\n",
    "        return 'deno_150000_175000'\n",
    "    elif (x > 175000) and (x <= 200000):\n",
    "        return 'deno_175000_200000'\n",
    "    elif (x > 200000) and (x <= 300000):\n",
    "        return 'deno_200000_300000'\n",
    "    else:\n",
    "        return 'deno_abv_300000'\n",
    "\n",
    "similarity['denom'] = similarity['price'].apply(denom_range)\n",
    "similarity.head()"
   ],
   "metadata": {
    "collapsed": false,
    "pycharm": {
     "name": "#%%\n"
    }
   }
  },
  {
   "cell_type": "code",
   "execution_count": 54,
   "outputs": [
    {
     "data": {
      "text/plain": "  site_id             cat               denom  sum_trx\n0  ADL001  Bundling_Orbit     deno_7500_10000        1\n1  ADL001  Bundling_Orbit    deno_25000_30000        7\n2  ADL001  Bundling_Orbit   deno_75000_100000        4\n3  ADL001  Bundling_Orbit  deno_150000_175000        3\n4  ADL001     CVM(BTL)_4G     deno_7500_10000       49",
      "text/html": "<div>\n<style scoped>\n    .dataframe tbody tr th:only-of-type {\n        vertical-align: middle;\n    }\n\n    .dataframe tbody tr th {\n        vertical-align: top;\n    }\n\n    .dataframe thead th {\n        text-align: right;\n    }\n</style>\n<table border=\"1\" class=\"dataframe\">\n  <thead>\n    <tr style=\"text-align: right;\">\n      <th></th>\n      <th>site_id</th>\n      <th>cat</th>\n      <th>denom</th>\n      <th>sum_trx</th>\n    </tr>\n  </thead>\n  <tbody>\n    <tr>\n      <th>0</th>\n      <td>ADL001</td>\n      <td>Bundling_Orbit</td>\n      <td>deno_7500_10000</td>\n      <td>1</td>\n    </tr>\n    <tr>\n      <th>1</th>\n      <td>ADL001</td>\n      <td>Bundling_Orbit</td>\n      <td>deno_25000_30000</td>\n      <td>7</td>\n    </tr>\n    <tr>\n      <th>2</th>\n      <td>ADL001</td>\n      <td>Bundling_Orbit</td>\n      <td>deno_75000_100000</td>\n      <td>4</td>\n    </tr>\n    <tr>\n      <th>3</th>\n      <td>ADL001</td>\n      <td>Bundling_Orbit</td>\n      <td>deno_150000_175000</td>\n      <td>3</td>\n    </tr>\n    <tr>\n      <th>4</th>\n      <td>ADL001</td>\n      <td>CVM(BTL)_4G</td>\n      <td>deno_7500_10000</td>\n      <td>49</td>\n    </tr>\n  </tbody>\n</table>\n</div>"
     },
     "execution_count": 54,
     "metadata": {},
     "output_type": "execute_result"
    }
   ],
   "source": [
    "similarity = similarity[['site_id','cat','denom','sum_trx']]\n",
    "similarity.head()"
   ],
   "metadata": {
    "collapsed": false,
    "pycharm": {
     "name": "#%%\n"
    }
   }
  },
  {
   "cell_type": "code",
   "execution_count": 55,
   "outputs": [
    {
     "data": {
      "text/plain": "  site_id  package_purchased  tot_trx  Bundling_Orbit  Bundling_Others  \\\n0  ADL001                225     3054              15                0   \n1  ADL003                262     3404              10                0   \n2  ADL005                285     5960               8                0   \n3  ADL006                190     1855               0                0   \n4  ADL007                211     2683               4                0   \n\n   CVM(BTL)_4G  CVM(BTL)_Churn  CVM(BTL)_ComboBAU  CVM(BTL)_ComboMax  \\\n0           87              46                228                746   \n1          103              48                340                774   \n2          150              73                413               1748   \n3           88              24                189                413   \n4           75              33                264                734   \n\n   CVM(BTL)_ComboPacman  ...  deno_2500_5000  deno_30000_35000  \\\n0                   486  ...             114               126   \n1                   734  ...             109               143   \n2                  1038  ...             239               286   \n3                   345  ...              82               124   \n4                   502  ...              65                98   \n\n   deno_35000_40000  deno_40000_45000  deno_45000_50000  deno_50000_75000  \\\n0               106                11                93               140   \n1               116                11               191               242   \n2               207                16               320               338   \n3                55                 4               101               125   \n4                94                11               188               159   \n\n   deno_5000_7500  deno_75000_100000  deno_7500_10000  deno_abv_300000  \n0              10                600              868                1  \n1              32                961              510                0  \n2              18               1296             1312                0  \n3              11                527              277                1  \n4               1                717              417                0  \n\n[5 rows x 54 columns]",
      "text/html": "<div>\n<style scoped>\n    .dataframe tbody tr th:only-of-type {\n        vertical-align: middle;\n    }\n\n    .dataframe tbody tr th {\n        vertical-align: top;\n    }\n\n    .dataframe thead th {\n        text-align: right;\n    }\n</style>\n<table border=\"1\" class=\"dataframe\">\n  <thead>\n    <tr style=\"text-align: right;\">\n      <th></th>\n      <th>site_id</th>\n      <th>package_purchased</th>\n      <th>tot_trx</th>\n      <th>Bundling_Orbit</th>\n      <th>Bundling_Others</th>\n      <th>CVM(BTL)_4G</th>\n      <th>CVM(BTL)_Churn</th>\n      <th>CVM(BTL)_ComboBAU</th>\n      <th>CVM(BTL)_ComboMax</th>\n      <th>CVM(BTL)_ComboPacman</th>\n      <th>...</th>\n      <th>deno_2500_5000</th>\n      <th>deno_30000_35000</th>\n      <th>deno_35000_40000</th>\n      <th>deno_40000_45000</th>\n      <th>deno_45000_50000</th>\n      <th>deno_50000_75000</th>\n      <th>deno_5000_7500</th>\n      <th>deno_75000_100000</th>\n      <th>deno_7500_10000</th>\n      <th>deno_abv_300000</th>\n    </tr>\n  </thead>\n  <tbody>\n    <tr>\n      <th>0</th>\n      <td>ADL001</td>\n      <td>225</td>\n      <td>3054</td>\n      <td>15</td>\n      <td>0</td>\n      <td>87</td>\n      <td>46</td>\n      <td>228</td>\n      <td>746</td>\n      <td>486</td>\n      <td>...</td>\n      <td>114</td>\n      <td>126</td>\n      <td>106</td>\n      <td>11</td>\n      <td>93</td>\n      <td>140</td>\n      <td>10</td>\n      <td>600</td>\n      <td>868</td>\n      <td>1</td>\n    </tr>\n    <tr>\n      <th>1</th>\n      <td>ADL003</td>\n      <td>262</td>\n      <td>3404</td>\n      <td>10</td>\n      <td>0</td>\n      <td>103</td>\n      <td>48</td>\n      <td>340</td>\n      <td>774</td>\n      <td>734</td>\n      <td>...</td>\n      <td>109</td>\n      <td>143</td>\n      <td>116</td>\n      <td>11</td>\n      <td>191</td>\n      <td>242</td>\n      <td>32</td>\n      <td>961</td>\n      <td>510</td>\n      <td>0</td>\n    </tr>\n    <tr>\n      <th>2</th>\n      <td>ADL005</td>\n      <td>285</td>\n      <td>5960</td>\n      <td>8</td>\n      <td>0</td>\n      <td>150</td>\n      <td>73</td>\n      <td>413</td>\n      <td>1748</td>\n      <td>1038</td>\n      <td>...</td>\n      <td>239</td>\n      <td>286</td>\n      <td>207</td>\n      <td>16</td>\n      <td>320</td>\n      <td>338</td>\n      <td>18</td>\n      <td>1296</td>\n      <td>1312</td>\n      <td>0</td>\n    </tr>\n    <tr>\n      <th>3</th>\n      <td>ADL006</td>\n      <td>190</td>\n      <td>1855</td>\n      <td>0</td>\n      <td>0</td>\n      <td>88</td>\n      <td>24</td>\n      <td>189</td>\n      <td>413</td>\n      <td>345</td>\n      <td>...</td>\n      <td>82</td>\n      <td>124</td>\n      <td>55</td>\n      <td>4</td>\n      <td>101</td>\n      <td>125</td>\n      <td>11</td>\n      <td>527</td>\n      <td>277</td>\n      <td>1</td>\n    </tr>\n    <tr>\n      <th>4</th>\n      <td>ADL007</td>\n      <td>211</td>\n      <td>2683</td>\n      <td>4</td>\n      <td>0</td>\n      <td>75</td>\n      <td>33</td>\n      <td>264</td>\n      <td>734</td>\n      <td>502</td>\n      <td>...</td>\n      <td>65</td>\n      <td>98</td>\n      <td>94</td>\n      <td>11</td>\n      <td>188</td>\n      <td>159</td>\n      <td>1</td>\n      <td>717</td>\n      <td>417</td>\n      <td>0</td>\n    </tr>\n  </tbody>\n</table>\n<p>5 rows × 54 columns</p>\n</div>"
     },
     "execution_count": 55,
     "metadata": {},
     "output_type": "execute_result"
    }
   ],
   "source": [
    "similarity_cat = similarity.pivot_table(index='site_id', columns='cat', values='sum_trx', fill_value=0, aggfunc='sum').round(decimals=0)\n",
    "\n",
    "similarity_den = similarity.pivot_table(index='site_id', columns='denom', values='sum_trx', fill_value=0, aggfunc='sum').round(decimals=0)\n",
    "\n",
    "similarity_total = df202112.groupby(['site_id']).agg({'content_id': 'nunique', 'site_prod_trx': 'sum' }).rename(columns={'content_id': 'package_purchased', 'site_prod_trx': 'tot_trx'})\n",
    "\n",
    "df_sim = similarity_total.merge(similarity_cat, on='site_id', how='left').merge(similarity_den, on='site_id', how='left')\n",
    "df_sim = df_sim.reset_index()\n",
    "df_sim.head()"
   ],
   "metadata": {
    "collapsed": false,
    "pycharm": {
     "name": "#%%\n"
    }
   }
  },
  {
   "cell_type": "code",
   "execution_count": 56,
   "outputs": [
    {
     "data": {
      "text/plain": "      site_id  package_purchased  tot_trx  Bundling_Orbit  Bundling_Others  \\\n25558  KRW092                190     2071               0                1   \n63104  YOG002                331     3365              15                0   \n\n       CVM(BTL)_4G  CVM(BTL)_Churn  CVM(BTL)_ComboBAU  CVM(BTL)_ComboMax  \\\n25558           12               7                  9                 87   \n63104           73              12                127                369   \n\n       CVM(BTL)_ComboPacman  ...  deno_2500_5000  deno_30000_35000  \\\n25558                   185  ...             167                34   \n63104                   368  ...             214               150   \n\n       deno_35000_40000  deno_40000_45000  deno_45000_50000  deno_50000_75000  \\\n25558                35                 5                44                90   \n63104               116                20               172               407   \n\n       deno_5000_7500  deno_75000_100000  deno_7500_10000  deno_abv_300000  \n25558              48                103              968                0  \n63104              39                458              604                0  \n\n[2 rows x 54 columns]",
      "text/html": "<div>\n<style scoped>\n    .dataframe tbody tr th:only-of-type {\n        vertical-align: middle;\n    }\n\n    .dataframe tbody tr th {\n        vertical-align: top;\n    }\n\n    .dataframe thead th {\n        text-align: right;\n    }\n</style>\n<table border=\"1\" class=\"dataframe\">\n  <thead>\n    <tr style=\"text-align: right;\">\n      <th></th>\n      <th>site_id</th>\n      <th>package_purchased</th>\n      <th>tot_trx</th>\n      <th>Bundling_Orbit</th>\n      <th>Bundling_Others</th>\n      <th>CVM(BTL)_4G</th>\n      <th>CVM(BTL)_Churn</th>\n      <th>CVM(BTL)_ComboBAU</th>\n      <th>CVM(BTL)_ComboMax</th>\n      <th>CVM(BTL)_ComboPacman</th>\n      <th>...</th>\n      <th>deno_2500_5000</th>\n      <th>deno_30000_35000</th>\n      <th>deno_35000_40000</th>\n      <th>deno_40000_45000</th>\n      <th>deno_45000_50000</th>\n      <th>deno_50000_75000</th>\n      <th>deno_5000_7500</th>\n      <th>deno_75000_100000</th>\n      <th>deno_7500_10000</th>\n      <th>deno_abv_300000</th>\n    </tr>\n  </thead>\n  <tbody>\n    <tr>\n      <th>25558</th>\n      <td>KRW092</td>\n      <td>190</td>\n      <td>2071</td>\n      <td>0</td>\n      <td>1</td>\n      <td>12</td>\n      <td>7</td>\n      <td>9</td>\n      <td>87</td>\n      <td>185</td>\n      <td>...</td>\n      <td>167</td>\n      <td>34</td>\n      <td>35</td>\n      <td>5</td>\n      <td>44</td>\n      <td>90</td>\n      <td>48</td>\n      <td>103</td>\n      <td>968</td>\n      <td>0</td>\n    </tr>\n    <tr>\n      <th>63104</th>\n      <td>YOG002</td>\n      <td>331</td>\n      <td>3365</td>\n      <td>15</td>\n      <td>0</td>\n      <td>73</td>\n      <td>12</td>\n      <td>127</td>\n      <td>369</td>\n      <td>368</td>\n      <td>...</td>\n      <td>214</td>\n      <td>150</td>\n      <td>116</td>\n      <td>20</td>\n      <td>172</td>\n      <td>407</td>\n      <td>39</td>\n      <td>458</td>\n      <td>604</td>\n      <td>0</td>\n    </tr>\n  </tbody>\n</table>\n<p>2 rows × 54 columns</p>\n</div>"
     },
     "execution_count": 56,
     "metadata": {},
     "output_type": "execute_result"
    }
   ],
   "source": [
    "df_sim[(df_sim['site_id'] == 'KRW092') | (df_sim['site_id'] == 'YOG002')]"
   ],
   "metadata": {
    "collapsed": false,
    "pycharm": {
     "name": "#%%\n"
    }
   }
  },
  {
   "cell_type": "markdown",
   "source": [
    "### df_similarity export"
   ],
   "metadata": {
    "collapsed": false
   }
  },
  {
   "cell_type": "code",
   "execution_count": 57,
   "outputs": [],
   "source": [
    "df_sim.to_csv('df_sim.csv.gz', header=True, index=False, compression=\"gzip\")"
   ],
   "metadata": {
    "collapsed": false,
    "pycharm": {
     "name": "#%%\n"
    }
   }
  },
  {
   "cell_type": "code",
   "execution_count": 58,
   "outputs": [],
   "source": [
    "df_sim = pd.read_csv(\"df_sim.csv.gz\", compression=\"gzip\", low_memory=False)"
   ],
   "metadata": {
    "collapsed": false,
    "pycharm": {
     "name": "#%%\n"
    }
   }
  },
  {
   "cell_type": "markdown",
   "source": [
    "### Modeling"
   ],
   "metadata": {
    "collapsed": false
   }
  },
  {
   "cell_type": "code",
   "execution_count": 59,
   "outputs": [
    {
     "data": {
      "text/plain": "   package_purchased  tot_trx  Bundling_Orbit  Bundling_Others  CVM(BTL)_4G  \\\n0                225     3054              15                0           87   \n1                262     3404              10                0          103   \n2                285     5960               8                0          150   \n3                190     1855               0                0           88   \n4                211     2683               4                0           75   \n\n   CVM(BTL)_Churn  CVM(BTL)_ComboBAU  CVM(BTL)_ComboMax  CVM(BTL)_ComboPacman  \\\n0              46                228                746                   486   \n1              48                340                774                   734   \n2              73                413               1748                  1038   \n3              24                189                413                   345   \n4              33                264                734                   502   \n\n   CVM(BTL)_ComboZoning  ...  deno_2500_5000  deno_30000_35000  \\\n0                   166  ...             114               126   \n1                   306  ...             109               143   \n2                   385  ...             239               286   \n3                   164  ...              82               124   \n4                   251  ...              65                98   \n\n   deno_35000_40000  deno_40000_45000  deno_45000_50000  deno_50000_75000  \\\n0               106                11                93               140   \n1               116                11               191               242   \n2               207                16               320               338   \n3                55                 4               101               125   \n4                94                11               188               159   \n\n   deno_5000_7500  deno_75000_100000  deno_7500_10000  deno_abv_300000  \n0              10                600              868                1  \n1              32                961              510                0  \n2              18               1296             1312                0  \n3              11                527              277                1  \n4               1                717              417                0  \n\n[5 rows x 53 columns]",
      "text/html": "<div>\n<style scoped>\n    .dataframe tbody tr th:only-of-type {\n        vertical-align: middle;\n    }\n\n    .dataframe tbody tr th {\n        vertical-align: top;\n    }\n\n    .dataframe thead th {\n        text-align: right;\n    }\n</style>\n<table border=\"1\" class=\"dataframe\">\n  <thead>\n    <tr style=\"text-align: right;\">\n      <th></th>\n      <th>package_purchased</th>\n      <th>tot_trx</th>\n      <th>Bundling_Orbit</th>\n      <th>Bundling_Others</th>\n      <th>CVM(BTL)_4G</th>\n      <th>CVM(BTL)_Churn</th>\n      <th>CVM(BTL)_ComboBAU</th>\n      <th>CVM(BTL)_ComboMax</th>\n      <th>CVM(BTL)_ComboPacman</th>\n      <th>CVM(BTL)_ComboZoning</th>\n      <th>...</th>\n      <th>deno_2500_5000</th>\n      <th>deno_30000_35000</th>\n      <th>deno_35000_40000</th>\n      <th>deno_40000_45000</th>\n      <th>deno_45000_50000</th>\n      <th>deno_50000_75000</th>\n      <th>deno_5000_7500</th>\n      <th>deno_75000_100000</th>\n      <th>deno_7500_10000</th>\n      <th>deno_abv_300000</th>\n    </tr>\n  </thead>\n  <tbody>\n    <tr>\n      <th>0</th>\n      <td>225</td>\n      <td>3054</td>\n      <td>15</td>\n      <td>0</td>\n      <td>87</td>\n      <td>46</td>\n      <td>228</td>\n      <td>746</td>\n      <td>486</td>\n      <td>166</td>\n      <td>...</td>\n      <td>114</td>\n      <td>126</td>\n      <td>106</td>\n      <td>11</td>\n      <td>93</td>\n      <td>140</td>\n      <td>10</td>\n      <td>600</td>\n      <td>868</td>\n      <td>1</td>\n    </tr>\n    <tr>\n      <th>1</th>\n      <td>262</td>\n      <td>3404</td>\n      <td>10</td>\n      <td>0</td>\n      <td>103</td>\n      <td>48</td>\n      <td>340</td>\n      <td>774</td>\n      <td>734</td>\n      <td>306</td>\n      <td>...</td>\n      <td>109</td>\n      <td>143</td>\n      <td>116</td>\n      <td>11</td>\n      <td>191</td>\n      <td>242</td>\n      <td>32</td>\n      <td>961</td>\n      <td>510</td>\n      <td>0</td>\n    </tr>\n    <tr>\n      <th>2</th>\n      <td>285</td>\n      <td>5960</td>\n      <td>8</td>\n      <td>0</td>\n      <td>150</td>\n      <td>73</td>\n      <td>413</td>\n      <td>1748</td>\n      <td>1038</td>\n      <td>385</td>\n      <td>...</td>\n      <td>239</td>\n      <td>286</td>\n      <td>207</td>\n      <td>16</td>\n      <td>320</td>\n      <td>338</td>\n      <td>18</td>\n      <td>1296</td>\n      <td>1312</td>\n      <td>0</td>\n    </tr>\n    <tr>\n      <th>3</th>\n      <td>190</td>\n      <td>1855</td>\n      <td>0</td>\n      <td>0</td>\n      <td>88</td>\n      <td>24</td>\n      <td>189</td>\n      <td>413</td>\n      <td>345</td>\n      <td>164</td>\n      <td>...</td>\n      <td>82</td>\n      <td>124</td>\n      <td>55</td>\n      <td>4</td>\n      <td>101</td>\n      <td>125</td>\n      <td>11</td>\n      <td>527</td>\n      <td>277</td>\n      <td>1</td>\n    </tr>\n    <tr>\n      <th>4</th>\n      <td>211</td>\n      <td>2683</td>\n      <td>4</td>\n      <td>0</td>\n      <td>75</td>\n      <td>33</td>\n      <td>264</td>\n      <td>734</td>\n      <td>502</td>\n      <td>251</td>\n      <td>...</td>\n      <td>65</td>\n      <td>98</td>\n      <td>94</td>\n      <td>11</td>\n      <td>188</td>\n      <td>159</td>\n      <td>1</td>\n      <td>717</td>\n      <td>417</td>\n      <td>0</td>\n    </tr>\n  </tbody>\n</table>\n<p>5 rows × 53 columns</p>\n</div>"
     },
     "execution_count": 59,
     "metadata": {},
     "output_type": "execute_result"
    }
   ],
   "source": [
    "df_compute = df_sim.drop('site_id', axis=1)\n",
    "df_compute.head()"
   ],
   "metadata": {
    "collapsed": false,
    "pycharm": {
     "name": "#%%\n"
    }
   }
  },
  {
   "cell_type": "code",
   "execution_count": 60,
   "outputs": [
    {
     "ename": "MemoryError",
     "evalue": "Unable to allocate 30.3 GiB for an array with shape (63744, 63744) and data type float64",
     "output_type": "error",
     "traceback": [
      "\u001B[1;31m---------------------------------------------------------------------------\u001B[0m",
      "\u001B[1;31mMemoryError\u001B[0m                               Traceback (most recent call last)",
      "Input \u001B[1;32mIn [60]\u001B[0m, in \u001B[0;36m<module>\u001B[1;34m\u001B[0m\n\u001B[1;32m----> 1\u001B[0m cosine_sim \u001B[38;5;241m=\u001B[39m \u001B[43mcosine_similarity\u001B[49m\u001B[43m(\u001B[49m\u001B[43mdf_compute\u001B[49m\u001B[43m)\u001B[49m\n\u001B[0;32m      2\u001B[0m cosine_sim\u001B[38;5;241m.\u001B[39mhead()\n",
      "File \u001B[1;32m~\\AppData\\Roaming\\Python\\Python39\\site-packages\\sklearn\\metrics\\pairwise.py:1259\u001B[0m, in \u001B[0;36mcosine_similarity\u001B[1;34m(X, Y, dense_output)\u001B[0m\n\u001B[0;32m   1256\u001B[0m \u001B[38;5;28;01melse\u001B[39;00m:\n\u001B[0;32m   1257\u001B[0m     Y_normalized \u001B[38;5;241m=\u001B[39m normalize(Y, copy\u001B[38;5;241m=\u001B[39m\u001B[38;5;28;01mTrue\u001B[39;00m)\n\u001B[1;32m-> 1259\u001B[0m K \u001B[38;5;241m=\u001B[39m \u001B[43msafe_sparse_dot\u001B[49m\u001B[43m(\u001B[49m\u001B[43mX_normalized\u001B[49m\u001B[43m,\u001B[49m\u001B[43m \u001B[49m\u001B[43mY_normalized\u001B[49m\u001B[38;5;241;43m.\u001B[39;49m\u001B[43mT\u001B[49m\u001B[43m,\u001B[49m\u001B[43m \u001B[49m\u001B[43mdense_output\u001B[49m\u001B[38;5;241;43m=\u001B[39;49m\u001B[43mdense_output\u001B[49m\u001B[43m)\u001B[49m\n\u001B[0;32m   1261\u001B[0m \u001B[38;5;28;01mreturn\u001B[39;00m K\n",
      "File \u001B[1;32m~\\AppData\\Roaming\\Python\\Python39\\site-packages\\sklearn\\utils\\extmath.py:153\u001B[0m, in \u001B[0;36msafe_sparse_dot\u001B[1;34m(a, b, dense_output)\u001B[0m\n\u001B[0;32m    151\u001B[0m         ret \u001B[38;5;241m=\u001B[39m np\u001B[38;5;241m.\u001B[39mdot(a, b)\n\u001B[0;32m    152\u001B[0m \u001B[38;5;28;01melse\u001B[39;00m:\n\u001B[1;32m--> 153\u001B[0m     ret \u001B[38;5;241m=\u001B[39m \u001B[43ma\u001B[49m\u001B[43m \u001B[49m\u001B[38;5;241;43m@\u001B[39;49m\u001B[43m \u001B[49m\u001B[43mb\u001B[49m\n\u001B[0;32m    155\u001B[0m \u001B[38;5;28;01mif\u001B[39;00m (\n\u001B[0;32m    156\u001B[0m     sparse\u001B[38;5;241m.\u001B[39missparse(a)\n\u001B[0;32m    157\u001B[0m     \u001B[38;5;129;01mand\u001B[39;00m sparse\u001B[38;5;241m.\u001B[39missparse(b)\n\u001B[0;32m    158\u001B[0m     \u001B[38;5;129;01mand\u001B[39;00m dense_output\n\u001B[0;32m    159\u001B[0m     \u001B[38;5;129;01mand\u001B[39;00m \u001B[38;5;28mhasattr\u001B[39m(ret, \u001B[38;5;124m\"\u001B[39m\u001B[38;5;124mtoarray\u001B[39m\u001B[38;5;124m\"\u001B[39m)\n\u001B[0;32m    160\u001B[0m ):\n\u001B[0;32m    161\u001B[0m     \u001B[38;5;28;01mreturn\u001B[39;00m ret\u001B[38;5;241m.\u001B[39mtoarray()\n",
      "\u001B[1;31mMemoryError\u001B[0m: Unable to allocate 30.3 GiB for an array with shape (63744, 63744) and data type float64"
     ]
    }
   ],
   "source": [
    "cosine_sim = cosine_similarity(df_compute)\n",
    "cosine_sim.head()"
   ],
   "metadata": {
    "collapsed": false,
    "pycharm": {
     "name": "#%%\n"
    }
   }
  },
  {
   "cell_type": "code",
   "execution_count": 62,
   "outputs": [],
   "source": [
    "indices = pd.Series(df_sim.index, index=df_sim['site_id']).drop_duplicates()"
   ],
   "metadata": {
    "collapsed": false,
    "pycharm": {
     "name": "#%%\n"
    }
   }
  },
  {
   "cell_type": "code",
   "execution_count": 63,
   "outputs": [
    {
     "ename": "NameError",
     "evalue": "name 'cosine_sim' is not defined",
     "output_type": "error",
     "traceback": [
      "\u001B[1;31m---------------------------------------------------------------------------\u001B[0m",
      "\u001B[1;31mNameError\u001B[0m                                 Traceback (most recent call last)",
      "Input \u001B[1;32mIn [63]\u001B[0m, in \u001B[0;36m<module>\u001B[1;34m\u001B[0m\n\u001B[0;32m      4\u001B[0m idx \u001B[38;5;241m=\u001B[39m indices[site]\n\u001B[0;32m      6\u001B[0m \u001B[38;5;66;03m# Get the pairwsie similarity scores of all sites with that site\u001B[39;00m\n\u001B[1;32m----> 7\u001B[0m sim_scores \u001B[38;5;241m=\u001B[39m \u001B[38;5;28mlist\u001B[39m(\u001B[38;5;28menumerate\u001B[39m(\u001B[43mcosine_sim\u001B[49m[idx]))\n\u001B[0;32m      9\u001B[0m \u001B[38;5;66;03m# Sort the sites based on the similarity scores\u001B[39;00m\n\u001B[0;32m     10\u001B[0m sim_scores \u001B[38;5;241m=\u001B[39m \u001B[38;5;28msorted\u001B[39m(sim_scores, key\u001B[38;5;241m=\u001B[39m\u001B[38;5;28;01mlambda\u001B[39;00m x: x[\u001B[38;5;241m1\u001B[39m], reverse\u001B[38;5;241m=\u001B[39m\u001B[38;5;28;01mTrue\u001B[39;00m)\n",
      "\u001B[1;31mNameError\u001B[0m: name 'cosine_sim' is not defined"
     ]
    }
   ],
   "source": [
    "store=[]\n",
    "for site in df_sim['site_id'].drop_duplicates().to_list():\n",
    "    # Get the index of the movie that matches the title\n",
    "    idx = indices[site]\n",
    "\n",
    "    # Get the pairwsie similarity scores of all sites with that site\n",
    "    sim_scores = list(enumerate(cosine_sim[idx]))\n",
    "\n",
    "    # Sort the sites based on the similarity scores\n",
    "    sim_scores = sorted(sim_scores, key=lambda x: x[1], reverse=True)\n",
    "\n",
    "    # Get the scores of the 5 most similar movies\n",
    "    sim_scores = sim_scores[1:6]\n",
    "\n",
    "    # Get the site indices\n",
    "    site_indices = [i[0] for i in sim_scores]\n",
    "\n",
    "    # Get the site similarity values\n",
    "    site_sim_value = [i[1] for i in sim_scores]\n",
    "\n",
    "    # Get Most Similar Site\n",
    "    most_sim_site = df_sim['site_id'].iloc[site_indices[0]]\n",
    "\n",
    "    # Get Similarity Value of Most Similar Site\n",
    "    sim_score = site_sim_value[0]\n",
    "\n",
    "    # Create dataframe\n",
    "    site_id = [site]\n",
    "    most_similar_site = [most_sim_site]\n",
    "    similarity_score = [sim_score]\n",
    "    similarity_dict = {'site_id':site_id, 'most_similar_site':most_similar_site, 'similarity_score':similarity_score}\n",
    "    df_new = pd.DataFrame(similarity_dict)\n",
    "\n",
    "    store.append(df_new)\n",
    "\n",
    "df_store = pd.concat(store)"
   ],
   "metadata": {
    "collapsed": false,
    "pycharm": {
     "name": "#%%\n"
    }
   }
  },
  {
   "cell_type": "code",
   "execution_count": 65,
   "outputs": [
    {
     "ename": "NameError",
     "evalue": "name 'df_store' is not defined",
     "output_type": "error",
     "traceback": [
      "\u001B[1;31m---------------------------------------------------------------------------\u001B[0m",
      "\u001B[1;31mNameError\u001B[0m                                 Traceback (most recent call last)",
      "Input \u001B[1;32mIn [65]\u001B[0m, in \u001B[0;36m<module>\u001B[1;34m\u001B[0m\n\u001B[1;32m----> 1\u001B[0m df_result_sim \u001B[38;5;241m=\u001B[39m \u001B[43mdf_store\u001B[49m\n",
      "\u001B[1;31mNameError\u001B[0m: name 'df_store' is not defined"
     ]
    }
   ],
   "source": [
    "df_result_sim = df_store"
   ],
   "metadata": {
    "collapsed": false,
    "pycharm": {
     "name": "#%%\n"
    }
   }
  },
  {
   "cell_type": "code",
   "execution_count": null,
   "outputs": [],
   "source": [],
   "metadata": {
    "collapsed": false,
    "pycharm": {
     "name": "#%%\n"
    }
   }
  },
  {
   "cell_type": "code",
   "execution_count": null,
   "outputs": [],
   "source": [],
   "metadata": {
    "collapsed": false,
    "pycharm": {
     "name": "#%%\n"
    }
   }
  },
  {
   "cell_type": "code",
   "execution_count": null,
   "outputs": [],
   "source": [],
   "metadata": {
    "collapsed": false,
    "pycharm": {
     "name": "#%%\n"
    }
   }
  },
  {
   "cell_type": "code",
   "execution_count": null,
   "outputs": [],
   "source": [],
   "metadata": {
    "collapsed": false,
    "pycharm": {
     "name": "#%%\n"
    }
   }
  },
  {
   "cell_type": "code",
   "execution_count": null,
   "outputs": [],
   "source": [
    "%%script draft-split-cat\n",
    "\n",
    "for site in sites:\n",
    "    exec(f\"{site} = df_sim1[df_sim1['site_id']==site].reset_index(drop=True)\")\n",
    "\n",
    "for site in sites:\n",
    "    exec(f\"{site} = {site}.drop(['site_id'], axis=1)\")"
   ],
   "metadata": {
    "collapsed": false,
    "pycharm": {
     "name": "#%%\n"
    }
   }
  }
 ],
 "metadata": {
  "kernelspec": {
   "display_name": "Python 3",
   "language": "python",
   "name": "python3"
  },
  "language_info": {
   "codemirror_mode": {
    "name": "ipython",
    "version": 2
   },
   "file_extension": ".py",
   "mimetype": "text/x-python",
   "name": "python",
   "nbconvert_exporter": "python",
   "pygments_lexer": "ipython2",
   "version": "2.7.6"
  }
 },
 "nbformat": 4,
 "nbformat_minor": 0
}